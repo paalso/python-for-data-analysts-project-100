{
 "cells": [
  {
   "cell_type": "markdown",
   "id": "6ac350f4-47c7-4edc-a336-116a9bfc81bc",
   "metadata": {},
   "source": [
    "# [Модуль \"Pythob для аналитиков данных\"](https://ru.hexlet.io/programs/python-for-data-analysts)\n",
    "\n",
    "## [Проект: Дашборд конверсий](https://ru.hexlet.io/programs/python-for-data-analysts/projects/100)\n"
   ]
  },
  {
   "cell_type": "code",
   "execution_count": 2,
   "id": "9485a6f4-912e-4cf2-9afd-edde0cf93696",
   "metadata": {},
   "outputs": [],
   "source": [
    "import pandas as pd\n",
    "import re\n",
    "import requests"
   ]
  },
  {
   "cell_type": "markdown",
   "id": "d1694c05-824e-4628-981a-361533c49ab7",
   "metadata": {},
   "source": [
    "#### Данные (образец):\n",
    "\n",
    "[Визиты](https://drive.google.com/file/d/1QosQQ4RRNR9rkL4t7sB707h2Uy0XfYJe/view?usp=drive_link) - тысяча записей с визитами\n",
    "\n",
    "[Регистрации](https://drive.google.com/file/d/1AeQz0kaSgz0lxYSDtuNm36muhy5fRCzZ/view?usp=drive_link) - тысяча записей о первых регистрациях\n"
   ]
  },
  {
   "cell_type": "markdown",
   "id": "3c815d2d-de50-4470-8da9-55ad4abe6b16",
   "metadata": {},
   "source": [
    "## Скачивание данных"
   ]
  },
  {
   "cell_type": "code",
   "execution_count": 6,
   "id": "a72091fb-c056-4b50-b4ff-0fa8880670d8",
   "metadata": {},
   "outputs": [],
   "source": [
    "API_URL = 'https://data-charts-api.hexlet.app'\n",
    "DATE_BEGIN = '2023-03-01'\n",
    "DATE_END = '2023-09-01'"
   ]
  },
  {
   "cell_type": "code",
   "execution_count": 8,
   "id": "e221d836-5596-4959-9209-ec3664ac9376",
   "metadata": {},
   "outputs": [],
   "source": [
    "def download_from_api(url, endpoint, path_to_save, start_date=None, end_date=None):\n",
    "    download_link = f'{url}/{endpoint}'\n",
    "    if start_date or end_date:\n",
    "        download_link += \"?\"\n",
    "        if start_date:\n",
    "            download_link += f'begin={start_date}'\n",
    "        if end_date:\n",
    "            download_link += f'&end={end_date}' if start_date else f'end={end_date}'\n",
    "            \n",
    "    print(f'Download from the link {download_link}...')\n",
    "    response = requests.get(download_link)\n",
    "    if response.ok:\n",
    "        with open(path_to_save, 'wb') as file:\n",
    "            file.write(response.content)\n",
    "        print(f\"File successfully saved as '{path_to_save}'\")\n",
    "    else:\n",
    "        print(f\"Error downloading file: status code {response.status_code}\")"
   ]
  },
  {
   "cell_type": "code",
   "execution_count": 35,
   "id": "d9b1ee7b-48e3-4259-b615-7ed086307315",
   "metadata": {},
   "outputs": [],
   "source": [
    "visits_path = './data/visits.json'\n",
    "registrations_path = './data/registrations.json'"
   ]
  },
  {
   "cell_type": "markdown",
   "id": "d24ad6af-bfe8-4345-84e1-c336a3c4115e",
   "metadata": {},
   "source": [
    "#### Скачивание данных **visits**"
   ]
  },
  {
   "cell_type": "code",
   "execution_count": 12,
   "id": "6e6cf10d-3534-4f66-87a4-faa3f7b339c4",
   "metadata": {
    "scrolled": true
   },
   "outputs": [
    {
     "name": "stdout",
     "output_type": "stream",
     "text": [
      "Download from the link https://data-charts-api.hexlet.app/visits?begin=2023-03-01&end=2023-09-01...\n",
      "File successfully saved as './data/visits.json'\n"
     ]
    }
   ],
   "source": [
    "download_from_api(url=API_URL,\n",
    "         endpoint='visits',\n",
    "         path_to_save=visits_path,\n",
    "         start_date=DATE_BEGIN,\n",
    "         end_date=DATE_END)"
   ]
  },
  {
   "cell_type": "markdown",
   "id": "85e5e389-01a2-4bae-b28e-a71c7ffc8996",
   "metadata": {},
   "source": [
    "#### Скачивание данных **registrations**"
   ]
  },
  {
   "cell_type": "code",
   "execution_count": 43,
   "id": "000cabd9-906e-4190-b8f5-a18b44f51393",
   "metadata": {
    "scrolled": true
   },
   "outputs": [
    {
     "name": "stdout",
     "output_type": "stream",
     "text": [
      "Download from the link https://data-charts-api.hexlet.app/registrations?begin=2023-03-01&end=2023-09-01...\n",
      "File successfully saved as './data/regsistrations.json'\n"
     ]
    }
   ],
   "source": [
    "download_from_api(url=API_URL,\n",
    "         endpoint='registrations',\n",
    "         path_to_save=registrations_path,\n",
    "         start_date=DATE_BEGIN,\n",
    "         end_date=DATE_END)"
   ]
  },
  {
   "cell_type": "markdown",
   "id": "5c31bc1b-d668-418e-bfc1-103efe24e658",
   "metadata": {},
   "source": [
    "## Предварительная подготовка датафреймов"
   ]
  },
  {
   "cell_type": "markdown",
   "id": "a30a3646-ef89-44d4-9213-2ed3911102d5",
   "metadata": {},
   "source": [
    "### visits"
   ]
  },
  {
   "cell_type": "code",
   "execution_count": 22,
   "id": "14d1df46-137b-4bf2-a8c8-a0cfd7654b57",
   "metadata": {},
   "outputs": [
    {
     "data": {
      "text/html": [
       "<div>\n",
       "<style scoped>\n",
       "    .dataframe tbody tr th:only-of-type {\n",
       "        vertical-align: middle;\n",
       "    }\n",
       "\n",
       "    .dataframe tbody tr th {\n",
       "        vertical-align: top;\n",
       "    }\n",
       "\n",
       "    .dataframe thead th {\n",
       "        text-align: right;\n",
       "    }\n",
       "</style>\n",
       "<table border=\"1\" class=\"dataframe\">\n",
       "  <thead>\n",
       "    <tr style=\"text-align: right;\">\n",
       "      <th></th>\n",
       "      <th>visit_id</th>\n",
       "      <th>platform</th>\n",
       "      <th>user_agent</th>\n",
       "      <th>datetime</th>\n",
       "    </tr>\n",
       "  </thead>\n",
       "  <tbody>\n",
       "    <tr>\n",
       "      <th>0</th>\n",
       "      <td>1de9ea66-70d3-4a1f-8735-df5ef7697fb9</td>\n",
       "      <td>web</td>\n",
       "      <td>Mozilla/5.0 (Windows NT 10.0; Win64; x64) Appl...</td>\n",
       "      <td>2023-03-01 10:36:22</td>\n",
       "    </tr>\n",
       "    <tr>\n",
       "      <th>1</th>\n",
       "      <td>f149f542-e935-4870-9734-6b4501eaf614</td>\n",
       "      <td>web</td>\n",
       "      <td>Mozilla/5.0 (Windows NT 10.0; WOW64; Trident/7...</td>\n",
       "      <td>2023-03-01 06:25:00</td>\n",
       "    </tr>\n",
       "    <tr>\n",
       "      <th>2</th>\n",
       "      <td>08f0ebd4-950c-4dd9-8e97-b5bdf073eed1</td>\n",
       "      <td>web</td>\n",
       "      <td>Mozilla/5.0 (Macintosh; Intel Mac OS X 10_11_2...</td>\n",
       "      <td>2023-03-01 10:26:13</td>\n",
       "    </tr>\n",
       "  </tbody>\n",
       "</table>\n",
       "</div>"
      ],
      "text/plain": [
       "                               visit_id platform  \\\n",
       "0  1de9ea66-70d3-4a1f-8735-df5ef7697fb9      web   \n",
       "1  f149f542-e935-4870-9734-6b4501eaf614      web   \n",
       "2  08f0ebd4-950c-4dd9-8e97-b5bdf073eed1      web   \n",
       "\n",
       "                                          user_agent            datetime  \n",
       "0  Mozilla/5.0 (Windows NT 10.0; Win64; x64) Appl... 2023-03-01 10:36:22  \n",
       "1  Mozilla/5.0 (Windows NT 10.0; WOW64; Trident/7... 2023-03-01 06:25:00  \n",
       "2  Mozilla/5.0 (Macintosh; Intel Mac OS X 10_11_2... 2023-03-01 10:26:13  "
      ]
     },
     "execution_count": 22,
     "metadata": {},
     "output_type": "execute_result"
    }
   ],
   "source": [
    "visits = pd.read_json(visits_path)\n",
    "visits.head(3)"
   ]
  },
  {
   "cell_type": "code",
   "execution_count": 24,
   "id": "acf6a9c5-cb73-415c-947d-639107dcfaaa",
   "metadata": {},
   "outputs": [
    {
     "data": {
      "text/html": [
       "<div>\n",
       "<style scoped>\n",
       "    .dataframe tbody tr th:only-of-type {\n",
       "        vertical-align: middle;\n",
       "    }\n",
       "\n",
       "    .dataframe tbody tr th {\n",
       "        vertical-align: top;\n",
       "    }\n",
       "\n",
       "    .dataframe thead th {\n",
       "        text-align: right;\n",
       "    }\n",
       "</style>\n",
       "<table border=\"1\" class=\"dataframe\">\n",
       "  <thead>\n",
       "    <tr style=\"text-align: right;\">\n",
       "      <th></th>\n",
       "      <th>visit_id</th>\n",
       "      <th>platform</th>\n",
       "      <th>user_agent</th>\n",
       "      <th>date</th>\n",
       "    </tr>\n",
       "  </thead>\n",
       "  <tbody>\n",
       "    <tr>\n",
       "      <th>0</th>\n",
       "      <td>1de9ea66-70d3-4a1f-8735-df5ef7697fb9</td>\n",
       "      <td>web</td>\n",
       "      <td>Mozilla/5.0 (Windows NT 10.0; Win64; x64) Appl...</td>\n",
       "      <td>2023-03-01</td>\n",
       "    </tr>\n",
       "    <tr>\n",
       "      <th>1</th>\n",
       "      <td>f149f542-e935-4870-9734-6b4501eaf614</td>\n",
       "      <td>web</td>\n",
       "      <td>Mozilla/5.0 (Windows NT 10.0; WOW64; Trident/7...</td>\n",
       "      <td>2023-03-01</td>\n",
       "    </tr>\n",
       "    <tr>\n",
       "      <th>2</th>\n",
       "      <td>08f0ebd4-950c-4dd9-8e97-b5bdf073eed1</td>\n",
       "      <td>web</td>\n",
       "      <td>Mozilla/5.0 (Macintosh; Intel Mac OS X 10_11_2...</td>\n",
       "      <td>2023-03-01</td>\n",
       "    </tr>\n",
       "  </tbody>\n",
       "</table>\n",
       "</div>"
      ],
      "text/plain": [
       "                               visit_id platform  \\\n",
       "0  1de9ea66-70d3-4a1f-8735-df5ef7697fb9      web   \n",
       "1  f149f542-e935-4870-9734-6b4501eaf614      web   \n",
       "2  08f0ebd4-950c-4dd9-8e97-b5bdf073eed1      web   \n",
       "\n",
       "                                          user_agent        date  \n",
       "0  Mozilla/5.0 (Windows NT 10.0; Win64; x64) Appl...  2023-03-01  \n",
       "1  Mozilla/5.0 (Windows NT 10.0; WOW64; Trident/7...  2023-03-01  \n",
       "2  Mozilla/5.0 (Macintosh; Intel Mac OS X 10_11_2...  2023-03-01  "
      ]
     },
     "execution_count": 24,
     "metadata": {},
     "output_type": "execute_result"
    }
   ],
   "source": [
    "# Преобразование datetime к date, что более уместно для наших задач\n",
    "visits['date'] = pd.to_datetime(visits.pop('datetime')).dt.date\n",
    "visits.head(3)"
   ]
  },
  {
   "cell_type": "code",
   "execution_count": 26,
   "id": "555f8dc9-dc80-43b6-a522-c27ede4ec59d",
   "metadata": {
    "scrolled": true
   },
   "outputs": [
    {
     "name": "stdout",
     "output_type": "stream",
     "text": [
      "<class 'pandas.core.frame.DataFrame'>\n",
      "RangeIndex: 263459 entries, 0 to 263458\n",
      "Data columns (total 4 columns):\n",
      " #   Column      Non-Null Count   Dtype \n",
      "---  ------      --------------   ----- \n",
      " 0   visit_id    263459 non-null  object\n",
      " 1   platform    263459 non-null  object\n",
      " 2   user_agent  263459 non-null  object\n",
      " 3   date        263459 non-null  object\n",
      "dtypes: object(4)\n",
      "memory usage: 8.0+ MB\n"
     ]
    }
   ],
   "source": [
    "visits.info()"
   ]
  },
  {
   "cell_type": "code",
   "execution_count": 28,
   "id": "41ec0ea7-1e6d-41d6-bbd5-bb104af06952",
   "metadata": {},
   "outputs": [
    {
     "data": {
      "text/html": [
       "<div>\n",
       "<style scoped>\n",
       "    .dataframe tbody tr th:only-of-type {\n",
       "        vertical-align: middle;\n",
       "    }\n",
       "\n",
       "    .dataframe tbody tr th {\n",
       "        vertical-align: top;\n",
       "    }\n",
       "\n",
       "    .dataframe thead th {\n",
       "        text-align: right;\n",
       "    }\n",
       "</style>\n",
       "<table border=\"1\" class=\"dataframe\">\n",
       "  <thead>\n",
       "    <tr style=\"text-align: right;\">\n",
       "      <th></th>\n",
       "      <th>visit_id</th>\n",
       "      <th>platform</th>\n",
       "      <th>user_agent</th>\n",
       "      <th>date</th>\n",
       "    </tr>\n",
       "  </thead>\n",
       "  <tbody>\n",
       "    <tr>\n",
       "      <th>count</th>\n",
       "      <td>263459</td>\n",
       "      <td>263459</td>\n",
       "      <td>263459</td>\n",
       "      <td>263459</td>\n",
       "    </tr>\n",
       "    <tr>\n",
       "      <th>unique</th>\n",
       "      <td>146085</td>\n",
       "      <td>4</td>\n",
       "      <td>32</td>\n",
       "      <td>184</td>\n",
       "    </tr>\n",
       "    <tr>\n",
       "      <th>top</th>\n",
       "      <td>64167edd-323a-4ab0-be9b-acd237a1ac30</td>\n",
       "      <td>web</td>\n",
       "      <td>Mozilla/5.0 (X11; Ubuntu; Linux x86_64; rv:109...</td>\n",
       "      <td>2023-03-08</td>\n",
       "    </tr>\n",
       "    <tr>\n",
       "      <th>freq</th>\n",
       "      <td>4</td>\n",
       "      <td>236301</td>\n",
       "      <td>13623</td>\n",
       "      <td>2624</td>\n",
       "    </tr>\n",
       "  </tbody>\n",
       "</table>\n",
       "</div>"
      ],
      "text/plain": [
       "                                    visit_id platform  \\\n",
       "count                                 263459   263459   \n",
       "unique                                146085        4   \n",
       "top     64167edd-323a-4ab0-be9b-acd237a1ac30      web   \n",
       "freq                                       4   236301   \n",
       "\n",
       "                                               user_agent        date  \n",
       "count                                              263459      263459  \n",
       "unique                                                 32         184  \n",
       "top     Mozilla/5.0 (X11; Ubuntu; Linux x86_64; rv:109...  2023-03-08  \n",
       "freq                                                13623        2624  "
      ]
     },
     "execution_count": 28,
     "metadata": {},
     "output_type": "execute_result"
    }
   ],
   "source": [
    "visits.describe()"
   ]
  },
  {
   "cell_type": "code",
   "execution_count": 30,
   "id": "e2fc87c1-dc2a-4c11-bcfa-88d801cadd39",
   "metadata": {},
   "outputs": [
    {
     "data": {
      "text/html": [
       "<div>\n",
       "<style scoped>\n",
       "    .dataframe tbody tr th:only-of-type {\n",
       "        vertical-align: middle;\n",
       "    }\n",
       "\n",
       "    .dataframe tbody tr th {\n",
       "        vertical-align: top;\n",
       "    }\n",
       "\n",
       "    .dataframe thead th {\n",
       "        text-align: right;\n",
       "    }\n",
       "</style>\n",
       "<table border=\"1\" class=\"dataframe\">\n",
       "  <thead>\n",
       "    <tr style=\"text-align: right;\">\n",
       "      <th></th>\n",
       "      <th>visit_id</th>\n",
       "      <th>platform</th>\n",
       "      <th>user_agent</th>\n",
       "      <th>date</th>\n",
       "    </tr>\n",
       "  </thead>\n",
       "  <tbody>\n",
       "    <tr>\n",
       "      <th>0</th>\n",
       "      <td>1de9ea66-70d3-4a1f-8735-df5ef7697fb9</td>\n",
       "      <td>web</td>\n",
       "      <td>Mozilla/5.0 (Windows NT 10.0; Win64; x64) Appl...</td>\n",
       "      <td>2023-03-01</td>\n",
       "    </tr>\n",
       "    <tr>\n",
       "      <th>1</th>\n",
       "      <td>f149f542-e935-4870-9734-6b4501eaf614</td>\n",
       "      <td>web</td>\n",
       "      <td>Mozilla/5.0 (Windows NT 10.0; WOW64; Trident/7...</td>\n",
       "      <td>2023-03-01</td>\n",
       "    </tr>\n",
       "    <tr>\n",
       "      <th>2</th>\n",
       "      <td>08f0ebd4-950c-4dd9-8e97-b5bdf073eed1</td>\n",
       "      <td>web</td>\n",
       "      <td>Mozilla/5.0 (Macintosh; Intel Mac OS X 10_11_2...</td>\n",
       "      <td>2023-03-01</td>\n",
       "    </tr>\n",
       "  </tbody>\n",
       "</table>\n",
       "</div>"
      ],
      "text/plain": [
       "                               visit_id platform  \\\n",
       "0  1de9ea66-70d3-4a1f-8735-df5ef7697fb9      web   \n",
       "1  f149f542-e935-4870-9734-6b4501eaf614      web   \n",
       "2  08f0ebd4-950c-4dd9-8e97-b5bdf073eed1      web   \n",
       "\n",
       "                                          user_agent        date  \n",
       "0  Mozilla/5.0 (Windows NT 10.0; Win64; x64) Appl...  2023-03-01  \n",
       "1  Mozilla/5.0 (Windows NT 10.0; WOW64; Trident/7...  2023-03-01  \n",
       "2  Mozilla/5.0 (Macintosh; Intel Mac OS X 10_11_2...  2023-03-01  "
      ]
     },
     "execution_count": 30,
     "metadata": {},
     "output_type": "execute_result"
    }
   ],
   "source": [
    "visits.head(3)"
   ]
  },
  {
   "cell_type": "markdown",
   "id": "577a59d5-4227-435f-842b-19acf7b5526b",
   "metadata": {},
   "source": [
    "### registrations"
   ]
  },
  {
   "cell_type": "code",
   "execution_count": 37,
   "id": "faef8ba9-aea8-4565-936e-d9654656e18c",
   "metadata": {},
   "outputs": [
    {
     "data": {
      "text/html": [
       "<div>\n",
       "<style scoped>\n",
       "    .dataframe tbody tr th:only-of-type {\n",
       "        vertical-align: middle;\n",
       "    }\n",
       "\n",
       "    .dataframe tbody tr th {\n",
       "        vertical-align: top;\n",
       "    }\n",
       "\n",
       "    .dataframe thead th {\n",
       "        text-align: right;\n",
       "    }\n",
       "</style>\n",
       "<table border=\"1\" class=\"dataframe\">\n",
       "  <thead>\n",
       "    <tr style=\"text-align: right;\">\n",
       "      <th></th>\n",
       "      <th>datetime</th>\n",
       "      <th>email</th>\n",
       "      <th>platform</th>\n",
       "      <th>registration_type</th>\n",
       "      <th>user_id</th>\n",
       "    </tr>\n",
       "  </thead>\n",
       "  <tbody>\n",
       "    <tr>\n",
       "      <th>0</th>\n",
       "      <td>2023-03-01 07:40:13+00:00</td>\n",
       "      <td>ebyrd@example.org</td>\n",
       "      <td>web</td>\n",
       "      <td>google</td>\n",
       "      <td>2e0f6bb8-b029-4f45-a786-2b53990d37f1</td>\n",
       "    </tr>\n",
       "    <tr>\n",
       "      <th>1</th>\n",
       "      <td>2023-03-01 13:14:00+00:00</td>\n",
       "      <td>knightgerald@example.org</td>\n",
       "      <td>web</td>\n",
       "      <td>email</td>\n",
       "      <td>f007f97c-9d8b-48b5-af08-119bb8f6d9b6</td>\n",
       "    </tr>\n",
       "    <tr>\n",
       "      <th>2</th>\n",
       "      <td>2023-03-01 03:05:50+00:00</td>\n",
       "      <td>cherylthompson@example.com</td>\n",
       "      <td>web</td>\n",
       "      <td>apple</td>\n",
       "      <td>24ff46ae-32b3-4a74-8f27-7cf0b8f32f15</td>\n",
       "    </tr>\n",
       "  </tbody>\n",
       "</table>\n",
       "</div>"
      ],
      "text/plain": [
       "                   datetime                       email platform  \\\n",
       "0 2023-03-01 07:40:13+00:00           ebyrd@example.org      web   \n",
       "1 2023-03-01 13:14:00+00:00    knightgerald@example.org      web   \n",
       "2 2023-03-01 03:05:50+00:00  cherylthompson@example.com      web   \n",
       "\n",
       "  registration_type                               user_id  \n",
       "0            google  2e0f6bb8-b029-4f45-a786-2b53990d37f1  \n",
       "1             email  f007f97c-9d8b-48b5-af08-119bb8f6d9b6  \n",
       "2             apple  24ff46ae-32b3-4a74-8f27-7cf0b8f32f15  "
      ]
     },
     "execution_count": 37,
     "metadata": {},
     "output_type": "execute_result"
    }
   ],
   "source": [
    "registrations = pd.read_json(registrations_path)\n",
    "registrations.head(3)"
   ]
  },
  {
   "cell_type": "code",
   "execution_count": 39,
   "id": "8467edcf-c4e8-448f-99a5-aa01486fd4b9",
   "metadata": {},
   "outputs": [
    {
     "data": {
      "text/html": [
       "<div>\n",
       "<style scoped>\n",
       "    .dataframe tbody tr th:only-of-type {\n",
       "        vertical-align: middle;\n",
       "    }\n",
       "\n",
       "    .dataframe tbody tr th {\n",
       "        vertical-align: top;\n",
       "    }\n",
       "\n",
       "    .dataframe thead th {\n",
       "        text-align: right;\n",
       "    }\n",
       "</style>\n",
       "<table border=\"1\" class=\"dataframe\">\n",
       "  <thead>\n",
       "    <tr style=\"text-align: right;\">\n",
       "      <th></th>\n",
       "      <th>email</th>\n",
       "      <th>platform</th>\n",
       "      <th>registration_type</th>\n",
       "      <th>user_id</th>\n",
       "      <th>date</th>\n",
       "    </tr>\n",
       "  </thead>\n",
       "  <tbody>\n",
       "    <tr>\n",
       "      <th>0</th>\n",
       "      <td>ebyrd@example.org</td>\n",
       "      <td>web</td>\n",
       "      <td>google</td>\n",
       "      <td>2e0f6bb8-b029-4f45-a786-2b53990d37f1</td>\n",
       "      <td>2023-03-01</td>\n",
       "    </tr>\n",
       "    <tr>\n",
       "      <th>1</th>\n",
       "      <td>knightgerald@example.org</td>\n",
       "      <td>web</td>\n",
       "      <td>email</td>\n",
       "      <td>f007f97c-9d8b-48b5-af08-119bb8f6d9b6</td>\n",
       "      <td>2023-03-01</td>\n",
       "    </tr>\n",
       "    <tr>\n",
       "      <th>2</th>\n",
       "      <td>cherylthompson@example.com</td>\n",
       "      <td>web</td>\n",
       "      <td>apple</td>\n",
       "      <td>24ff46ae-32b3-4a74-8f27-7cf0b8f32f15</td>\n",
       "      <td>2023-03-01</td>\n",
       "    </tr>\n",
       "  </tbody>\n",
       "</table>\n",
       "</div>"
      ],
      "text/plain": [
       "                        email platform registration_type  \\\n",
       "0           ebyrd@example.org      web            google   \n",
       "1    knightgerald@example.org      web             email   \n",
       "2  cherylthompson@example.com      web             apple   \n",
       "\n",
       "                                user_id        date  \n",
       "0  2e0f6bb8-b029-4f45-a786-2b53990d37f1  2023-03-01  \n",
       "1  f007f97c-9d8b-48b5-af08-119bb8f6d9b6  2023-03-01  \n",
       "2  24ff46ae-32b3-4a74-8f27-7cf0b8f32f15  2023-03-01  "
      ]
     },
     "execution_count": 39,
     "metadata": {},
     "output_type": "execute_result"
    }
   ],
   "source": [
    "# Преобразование datetime к date, что более уместно для наших задач\n",
    "registrations['date'] = pd.to_datetime(registrations.pop('datetime')).dt.date\n",
    "registrations.head(3)"
   ]
  },
  {
   "cell_type": "code",
   "execution_count": 41,
   "id": "48365423-a647-4a15-a86c-81d128e1e52a",
   "metadata": {},
   "outputs": [
    {
     "name": "stdout",
     "output_type": "stream",
     "text": [
      "<class 'pandas.core.frame.DataFrame'>\n",
      "RangeIndex: 21836 entries, 0 to 21835\n",
      "Data columns (total 5 columns):\n",
      " #   Column             Non-Null Count  Dtype \n",
      "---  ------             --------------  ----- \n",
      " 0   email              21836 non-null  object\n",
      " 1   platform           21836 non-null  object\n",
      " 2   registration_type  21836 non-null  object\n",
      " 3   user_id            21836 non-null  object\n",
      " 4   date               21836 non-null  object\n",
      "dtypes: object(5)\n",
      "memory usage: 853.1+ KB\n"
     ]
    }
   ],
   "source": [
    "registrations.info()"
   ]
  },
  {
   "cell_type": "code",
   "execution_count": 43,
   "id": "25451f87-b958-42a6-bfb0-9ff6870ea7b5",
   "metadata": {},
   "outputs": [
    {
     "data": {
      "text/html": [
       "<div>\n",
       "<style scoped>\n",
       "    .dataframe tbody tr th:only-of-type {\n",
       "        vertical-align: middle;\n",
       "    }\n",
       "\n",
       "    .dataframe tbody tr th {\n",
       "        vertical-align: top;\n",
       "    }\n",
       "\n",
       "    .dataframe thead th {\n",
       "        text-align: right;\n",
       "    }\n",
       "</style>\n",
       "<table border=\"1\" class=\"dataframe\">\n",
       "  <thead>\n",
       "    <tr style=\"text-align: right;\">\n",
       "      <th></th>\n",
       "      <th>email</th>\n",
       "      <th>platform</th>\n",
       "      <th>registration_type</th>\n",
       "      <th>user_id</th>\n",
       "      <th>date</th>\n",
       "    </tr>\n",
       "  </thead>\n",
       "  <tbody>\n",
       "    <tr>\n",
       "      <th>count</th>\n",
       "      <td>21836</td>\n",
       "      <td>21836</td>\n",
       "      <td>21836</td>\n",
       "      <td>21836</td>\n",
       "      <td>21836</td>\n",
       "    </tr>\n",
       "    <tr>\n",
       "      <th>unique</th>\n",
       "      <td>20868</td>\n",
       "      <td>3</td>\n",
       "      <td>4</td>\n",
       "      <td>21836</td>\n",
       "      <td>184</td>\n",
       "    </tr>\n",
       "    <tr>\n",
       "      <th>top</th>\n",
       "      <td>ujones@example.com</td>\n",
       "      <td>android</td>\n",
       "      <td>email</td>\n",
       "      <td>2e0f6bb8-b029-4f45-a786-2b53990d37f1</td>\n",
       "      <td>2023-03-06</td>\n",
       "    </tr>\n",
       "    <tr>\n",
       "      <th>freq</th>\n",
       "      <td>6</td>\n",
       "      <td>10582</td>\n",
       "      <td>8996</td>\n",
       "      <td>1</td>\n",
       "      <td>230</td>\n",
       "    </tr>\n",
       "  </tbody>\n",
       "</table>\n",
       "</div>"
      ],
      "text/plain": [
       "                     email platform registration_type  \\\n",
       "count                21836    21836             21836   \n",
       "unique               20868        3                 4   \n",
       "top     ujones@example.com  android             email   \n",
       "freq                     6    10582              8996   \n",
       "\n",
       "                                     user_id        date  \n",
       "count                                  21836       21836  \n",
       "unique                                 21836         184  \n",
       "top     2e0f6bb8-b029-4f45-a786-2b53990d37f1  2023-03-06  \n",
       "freq                                       1         230  "
      ]
     },
     "execution_count": 43,
     "metadata": {},
     "output_type": "execute_result"
    }
   ],
   "source": [
    "registrations.describe()"
   ]
  },
  {
   "cell_type": "code",
   "execution_count": 45,
   "id": "fcb69a15-16ac-4291-8850-6e038d1751c4",
   "metadata": {},
   "outputs": [
    {
     "data": {
      "text/html": [
       "<div>\n",
       "<style scoped>\n",
       "    .dataframe tbody tr th:only-of-type {\n",
       "        vertical-align: middle;\n",
       "    }\n",
       "\n",
       "    .dataframe tbody tr th {\n",
       "        vertical-align: top;\n",
       "    }\n",
       "\n",
       "    .dataframe thead th {\n",
       "        text-align: right;\n",
       "    }\n",
       "</style>\n",
       "<table border=\"1\" class=\"dataframe\">\n",
       "  <thead>\n",
       "    <tr style=\"text-align: right;\">\n",
       "      <th></th>\n",
       "      <th>email</th>\n",
       "      <th>platform</th>\n",
       "      <th>registration_type</th>\n",
       "      <th>user_id</th>\n",
       "      <th>date</th>\n",
       "    </tr>\n",
       "  </thead>\n",
       "  <tbody>\n",
       "    <tr>\n",
       "      <th>0</th>\n",
       "      <td>ebyrd@example.org</td>\n",
       "      <td>web</td>\n",
       "      <td>google</td>\n",
       "      <td>2e0f6bb8-b029-4f45-a786-2b53990d37f1</td>\n",
       "      <td>2023-03-01</td>\n",
       "    </tr>\n",
       "    <tr>\n",
       "      <th>1</th>\n",
       "      <td>knightgerald@example.org</td>\n",
       "      <td>web</td>\n",
       "      <td>email</td>\n",
       "      <td>f007f97c-9d8b-48b5-af08-119bb8f6d9b6</td>\n",
       "      <td>2023-03-01</td>\n",
       "    </tr>\n",
       "    <tr>\n",
       "      <th>2</th>\n",
       "      <td>cherylthompson@example.com</td>\n",
       "      <td>web</td>\n",
       "      <td>apple</td>\n",
       "      <td>24ff46ae-32b3-4a74-8f27-7cf0b8f32f15</td>\n",
       "      <td>2023-03-01</td>\n",
       "    </tr>\n",
       "  </tbody>\n",
       "</table>\n",
       "</div>"
      ],
      "text/plain": [
       "                        email platform registration_type  \\\n",
       "0           ebyrd@example.org      web            google   \n",
       "1    knightgerald@example.org      web             email   \n",
       "2  cherylthompson@example.com      web             apple   \n",
       "\n",
       "                                user_id        date  \n",
       "0  2e0f6bb8-b029-4f45-a786-2b53990d37f1  2023-03-01  \n",
       "1  f007f97c-9d8b-48b5-af08-119bb8f6d9b6  2023-03-01  \n",
       "2  24ff46ae-32b3-4a74-8f27-7cf0b8f32f15  2023-03-01  "
      ]
     },
     "execution_count": 45,
     "metadata": {},
     "output_type": "execute_result"
    }
   ],
   "source": [
    "registrations.head(3)"
   ]
  },
  {
   "cell_type": "markdown",
   "id": "75c27b83-276b-40bb-be60-7dce56d33f8b",
   "metadata": {},
   "source": [
    "## Расчет метрик"
   ]
  },
  {
   "cell_type": "markdown",
   "id": "4739ec40-cb1d-49b3-b3ba-e44a351dd58d",
   "metadata": {},
   "source": [
    "* Сгруппируйте данные визитов по датам и платформам\n",
    "* Сгруппируйте также данные регистраций по датам и платформам\n",
    "* Объедините датайфреймы, сделайте итоговый датафрейм с расчетом конверсии\n",
    "* Сохраните датафрейм в формате JSON conversion.json\n",
    "* Поля датафрейма:\n",
    "  - date_group - сагрегированный столбец дат\n",
    "  - platform - платформа (android,web,ios)\n",
    "  - visits - визиты за период date_group\n",
    "  - registrations - регистрации за период date_group\n",
    "  - conversion - конверсия по платформе"
   ]
  },
  {
   "cell_type": "markdown",
   "id": "5e625424-25d0-4f24-8a2d-9bba617009d7",
   "metadata": {},
   "source": [
    "#### Группировка данных визитов по датам и платформам"
   ]
  },
  {
   "cell_type": "markdown",
   "id": "220645ab-2bf8-4be0-9103-175fdea6eb15",
   "metadata": {},
   "source": [
    "##### Визиты ботов не должны влиять на расчет конверсии"
   ]
  },
  {
   "cell_type": "code",
   "execution_count": 89,
   "id": "f8dd3ea2-da1d-4e51-b015-eedf4b35af38",
   "metadata": {},
   "outputs": [],
   "source": [
    "visits_withot_bots = visits[~visits.user_agent.str.contains('bot')]"
   ]
  },
  {
   "cell_type": "code",
   "execution_count": 99,
   "id": "dd5b7436-e9c4-4f20-b273-bfa3aba5bd93",
   "metadata": {
    "scrolled": true
   },
   "outputs": [
    {
     "data": {
      "text/html": [
       "<div>\n",
       "<style scoped>\n",
       "    .dataframe tbody tr th:only-of-type {\n",
       "        vertical-align: middle;\n",
       "    }\n",
       "\n",
       "    .dataframe tbody tr th {\n",
       "        vertical-align: top;\n",
       "    }\n",
       "\n",
       "    .dataframe thead th {\n",
       "        text-align: right;\n",
       "    }\n",
       "</style>\n",
       "<table border=\"1\" class=\"dataframe\">\n",
       "  <thead>\n",
       "    <tr style=\"text-align: right;\">\n",
       "      <th></th>\n",
       "      <th>date_group</th>\n",
       "      <th>platform</th>\n",
       "      <th>visits</th>\n",
       "    </tr>\n",
       "  </thead>\n",
       "  <tbody>\n",
       "    <tr>\n",
       "      <th>0</th>\n",
       "      <td>2023-03-01</td>\n",
       "      <td>android</td>\n",
       "      <td>75</td>\n",
       "    </tr>\n",
       "    <tr>\n",
       "      <th>1</th>\n",
       "      <td>2023-03-01</td>\n",
       "      <td>ios</td>\n",
       "      <td>22</td>\n",
       "    </tr>\n",
       "    <tr>\n",
       "      <th>2</th>\n",
       "      <td>2023-03-01</td>\n",
       "      <td>web</td>\n",
       "      <td>844</td>\n",
       "    </tr>\n",
       "    <tr>\n",
       "      <th>3</th>\n",
       "      <td>2023-03-02</td>\n",
       "      <td>android</td>\n",
       "      <td>67</td>\n",
       "    </tr>\n",
       "    <tr>\n",
       "      <th>4</th>\n",
       "      <td>2023-03-02</td>\n",
       "      <td>ios</td>\n",
       "      <td>31</td>\n",
       "    </tr>\n",
       "    <tr>\n",
       "      <th>...</th>\n",
       "      <td>...</td>\n",
       "      <td>...</td>\n",
       "      <td>...</td>\n",
       "    </tr>\n",
       "    <tr>\n",
       "      <th>547</th>\n",
       "      <td>2023-08-30</td>\n",
       "      <td>ios</td>\n",
       "      <td>66</td>\n",
       "    </tr>\n",
       "    <tr>\n",
       "      <th>548</th>\n",
       "      <td>2023-08-30</td>\n",
       "      <td>web</td>\n",
       "      <td>1357</td>\n",
       "    </tr>\n",
       "    <tr>\n",
       "      <th>549</th>\n",
       "      <td>2023-08-31</td>\n",
       "      <td>android</td>\n",
       "      <td>57</td>\n",
       "    </tr>\n",
       "    <tr>\n",
       "      <th>550</th>\n",
       "      <td>2023-08-31</td>\n",
       "      <td>ios</td>\n",
       "      <td>50</td>\n",
       "    </tr>\n",
       "    <tr>\n",
       "      <th>551</th>\n",
       "      <td>2023-08-31</td>\n",
       "      <td>web</td>\n",
       "      <td>722</td>\n",
       "    </tr>\n",
       "  </tbody>\n",
       "</table>\n",
       "<p>552 rows × 3 columns</p>\n",
       "</div>"
      ],
      "text/plain": [
       "     date_group platform  visits\n",
       "0    2023-03-01  android      75\n",
       "1    2023-03-01      ios      22\n",
       "2    2023-03-01      web     844\n",
       "3    2023-03-02  android      67\n",
       "4    2023-03-02      ios      31\n",
       "..          ...      ...     ...\n",
       "547  2023-08-30      ios      66\n",
       "548  2023-08-30      web    1357\n",
       "549  2023-08-31  android      57\n",
       "550  2023-08-31      ios      50\n",
       "551  2023-08-31      web     722\n",
       "\n",
       "[552 rows x 3 columns]"
      ]
     },
     "execution_count": 99,
     "metadata": {},
     "output_type": "execute_result"
    }
   ],
   "source": [
    "visits_grouped = visits_withot_bots.groupby(['date','platform']).agg(visits=('visit_id', 'size')).reset_index()\n",
    "visits_grouped.rename(columns={'date': 'date_group'}, inplace=True)\n",
    "visits_grouped"
   ]
  },
  {
   "cell_type": "code",
   "execution_count": 103,
   "id": "10785e40-1ff0-4bf4-bfd9-57bc711ce351",
   "metadata": {},
   "outputs": [
    {
     "ename": "KeyError",
     "evalue": "\"Column(s) ['visit_id'] do not exist\"",
     "output_type": "error",
     "traceback": [
      "\u001b[0;31m---------------------------------------------------------------------------\u001b[0m",
      "\u001b[0;31mKeyError\u001b[0m                                  Traceback (most recent call last)",
      "Cell \u001b[0;32mIn[103], line 1\u001b[0m\n\u001b[0;32m----> 1\u001b[0m registrations_grouped \u001b[38;5;241m=\u001b[39m registrations\u001b[38;5;241m.\u001b[39mgroupby([\u001b[38;5;124m'\u001b[39m\u001b[38;5;124mdate\u001b[39m\u001b[38;5;124m'\u001b[39m,\u001b[38;5;124m'\u001b[39m\u001b[38;5;124mplatform\u001b[39m\u001b[38;5;124m'\u001b[39m])\u001b[38;5;241m.\u001b[39magg(visits\u001b[38;5;241m=\u001b[39m(\u001b[38;5;124m'\u001b[39m\u001b[38;5;124mvisit_id\u001b[39m\u001b[38;5;124m'\u001b[39m, \u001b[38;5;124m'\u001b[39m\u001b[38;5;124msize\u001b[39m\u001b[38;5;124m'\u001b[39m))\u001b[38;5;241m.\u001b[39mreset_index()\n\u001b[1;32m      2\u001b[0m \u001b[38;5;66;03m# registrations_grouped.rename(columns={'date': 'date_group'}, inplace=True)\u001b[39;00m\n\u001b[1;32m      3\u001b[0m registrations_grouped\n",
      "File \u001b[0;32m~/miniconda3/lib/python3.12/site-packages/pandas/core/groupby/generic.py:1432\u001b[0m, in \u001b[0;36mDataFrameGroupBy.aggregate\u001b[0;34m(self, func, engine, engine_kwargs, *args, **kwargs)\u001b[0m\n\u001b[1;32m   1429\u001b[0m     kwargs[\u001b[38;5;124m\"\u001b[39m\u001b[38;5;124mengine_kwargs\u001b[39m\u001b[38;5;124m\"\u001b[39m] \u001b[38;5;241m=\u001b[39m engine_kwargs\n\u001b[1;32m   1431\u001b[0m op \u001b[38;5;241m=\u001b[39m GroupByApply(\u001b[38;5;28mself\u001b[39m, func, args\u001b[38;5;241m=\u001b[39margs, kwargs\u001b[38;5;241m=\u001b[39mkwargs)\n\u001b[0;32m-> 1432\u001b[0m result \u001b[38;5;241m=\u001b[39m op\u001b[38;5;241m.\u001b[39magg()\n\u001b[1;32m   1433\u001b[0m \u001b[38;5;28;01mif\u001b[39;00m \u001b[38;5;129;01mnot\u001b[39;00m is_dict_like(func) \u001b[38;5;129;01mand\u001b[39;00m result \u001b[38;5;129;01mis\u001b[39;00m \u001b[38;5;129;01mnot\u001b[39;00m \u001b[38;5;28;01mNone\u001b[39;00m:\n\u001b[1;32m   1434\u001b[0m     \u001b[38;5;66;03m# GH #52849\u001b[39;00m\n\u001b[1;32m   1435\u001b[0m     \u001b[38;5;28;01mif\u001b[39;00m \u001b[38;5;129;01mnot\u001b[39;00m \u001b[38;5;28mself\u001b[39m\u001b[38;5;241m.\u001b[39mas_index \u001b[38;5;129;01mand\u001b[39;00m is_list_like(func):\n",
      "File \u001b[0;32m~/miniconda3/lib/python3.12/site-packages/pandas/core/apply.py:190\u001b[0m, in \u001b[0;36mApply.agg\u001b[0;34m(self)\u001b[0m\n\u001b[1;32m    187\u001b[0m     \u001b[38;5;28;01mreturn\u001b[39;00m \u001b[38;5;28mself\u001b[39m\u001b[38;5;241m.\u001b[39mapply_str()\n\u001b[1;32m    189\u001b[0m \u001b[38;5;28;01mif\u001b[39;00m is_dict_like(func):\n\u001b[0;32m--> 190\u001b[0m     \u001b[38;5;28;01mreturn\u001b[39;00m \u001b[38;5;28mself\u001b[39m\u001b[38;5;241m.\u001b[39magg_dict_like()\n\u001b[1;32m    191\u001b[0m \u001b[38;5;28;01melif\u001b[39;00m is_list_like(func):\n\u001b[1;32m    192\u001b[0m     \u001b[38;5;66;03m# we require a list, but not a 'str'\u001b[39;00m\n\u001b[1;32m    193\u001b[0m     \u001b[38;5;28;01mreturn\u001b[39;00m \u001b[38;5;28mself\u001b[39m\u001b[38;5;241m.\u001b[39magg_list_like()\n",
      "File \u001b[0;32m~/miniconda3/lib/python3.12/site-packages/pandas/core/apply.py:423\u001b[0m, in \u001b[0;36mApply.agg_dict_like\u001b[0;34m(self)\u001b[0m\n\u001b[1;32m    415\u001b[0m \u001b[38;5;28;01mdef\u001b[39;00m \u001b[38;5;21magg_dict_like\u001b[39m(\u001b[38;5;28mself\u001b[39m) \u001b[38;5;241m-\u001b[39m\u001b[38;5;241m>\u001b[39m DataFrame \u001b[38;5;241m|\u001b[39m Series:\n\u001b[1;32m    416\u001b[0m \u001b[38;5;250m    \u001b[39m\u001b[38;5;124;03m\"\"\"\u001b[39;00m\n\u001b[1;32m    417\u001b[0m \u001b[38;5;124;03m    Compute aggregation in the case of a dict-like argument.\u001b[39;00m\n\u001b[1;32m    418\u001b[0m \n\u001b[0;32m   (...)\u001b[0m\n\u001b[1;32m    421\u001b[0m \u001b[38;5;124;03m    Result of aggregation.\u001b[39;00m\n\u001b[1;32m    422\u001b[0m \u001b[38;5;124;03m    \"\"\"\u001b[39;00m\n\u001b[0;32m--> 423\u001b[0m     \u001b[38;5;28;01mreturn\u001b[39;00m \u001b[38;5;28mself\u001b[39m\u001b[38;5;241m.\u001b[39magg_or_apply_dict_like(op_name\u001b[38;5;241m=\u001b[39m\u001b[38;5;124m\"\u001b[39m\u001b[38;5;124magg\u001b[39m\u001b[38;5;124m\"\u001b[39m)\n",
      "File \u001b[0;32m~/miniconda3/lib/python3.12/site-packages/pandas/core/apply.py:1608\u001b[0m, in \u001b[0;36mGroupByApply.agg_or_apply_dict_like\u001b[0;34m(self, op_name)\u001b[0m\n\u001b[1;32m   1603\u001b[0m     kwargs\u001b[38;5;241m.\u001b[39mupdate({\u001b[38;5;124m\"\u001b[39m\u001b[38;5;124mengine\u001b[39m\u001b[38;5;124m\"\u001b[39m: engine, \u001b[38;5;124m\"\u001b[39m\u001b[38;5;124mengine_kwargs\u001b[39m\u001b[38;5;124m\"\u001b[39m: engine_kwargs})\n\u001b[1;32m   1605\u001b[0m \u001b[38;5;28;01mwith\u001b[39;00m com\u001b[38;5;241m.\u001b[39mtemp_setattr(\n\u001b[1;32m   1606\u001b[0m     obj, \u001b[38;5;124m\"\u001b[39m\u001b[38;5;124mas_index\u001b[39m\u001b[38;5;124m\"\u001b[39m, \u001b[38;5;28;01mTrue\u001b[39;00m, condition\u001b[38;5;241m=\u001b[39m\u001b[38;5;28mhasattr\u001b[39m(obj, \u001b[38;5;124m\"\u001b[39m\u001b[38;5;124mas_index\u001b[39m\u001b[38;5;124m\"\u001b[39m)\n\u001b[1;32m   1607\u001b[0m ):\n\u001b[0;32m-> 1608\u001b[0m     result_index, result_data \u001b[38;5;241m=\u001b[39m \u001b[38;5;28mself\u001b[39m\u001b[38;5;241m.\u001b[39mcompute_dict_like(\n\u001b[1;32m   1609\u001b[0m         op_name, selected_obj, selection, kwargs\n\u001b[1;32m   1610\u001b[0m     )\n\u001b[1;32m   1611\u001b[0m result \u001b[38;5;241m=\u001b[39m \u001b[38;5;28mself\u001b[39m\u001b[38;5;241m.\u001b[39mwrap_results_dict_like(selected_obj, result_index, result_data)\n\u001b[1;32m   1612\u001b[0m \u001b[38;5;28;01mreturn\u001b[39;00m result\n",
      "File \u001b[0;32m~/miniconda3/lib/python3.12/site-packages/pandas/core/apply.py:462\u001b[0m, in \u001b[0;36mApply.compute_dict_like\u001b[0;34m(self, op_name, selected_obj, selection, kwargs)\u001b[0m\n\u001b[1;32m    460\u001b[0m is_groupby \u001b[38;5;241m=\u001b[39m \u001b[38;5;28misinstance\u001b[39m(obj, (DataFrameGroupBy, SeriesGroupBy))\n\u001b[1;32m    461\u001b[0m func \u001b[38;5;241m=\u001b[39m cast(AggFuncTypeDict, \u001b[38;5;28mself\u001b[39m\u001b[38;5;241m.\u001b[39mfunc)\n\u001b[0;32m--> 462\u001b[0m func \u001b[38;5;241m=\u001b[39m \u001b[38;5;28mself\u001b[39m\u001b[38;5;241m.\u001b[39mnormalize_dictlike_arg(op_name, selected_obj, func)\n\u001b[1;32m    464\u001b[0m is_non_unique_col \u001b[38;5;241m=\u001b[39m (\n\u001b[1;32m    465\u001b[0m     selected_obj\u001b[38;5;241m.\u001b[39mndim \u001b[38;5;241m==\u001b[39m \u001b[38;5;241m2\u001b[39m\n\u001b[1;32m    466\u001b[0m     \u001b[38;5;129;01mand\u001b[39;00m selected_obj\u001b[38;5;241m.\u001b[39mcolumns\u001b[38;5;241m.\u001b[39mnunique() \u001b[38;5;241m<\u001b[39m \u001b[38;5;28mlen\u001b[39m(selected_obj\u001b[38;5;241m.\u001b[39mcolumns)\n\u001b[1;32m    467\u001b[0m )\n\u001b[1;32m    469\u001b[0m \u001b[38;5;28;01mif\u001b[39;00m selected_obj\u001b[38;5;241m.\u001b[39mndim \u001b[38;5;241m==\u001b[39m \u001b[38;5;241m1\u001b[39m:\n\u001b[1;32m    470\u001b[0m     \u001b[38;5;66;03m# key only used for output\u001b[39;00m\n",
      "File \u001b[0;32m~/miniconda3/lib/python3.12/site-packages/pandas/core/apply.py:663\u001b[0m, in \u001b[0;36mApply.normalize_dictlike_arg\u001b[0;34m(self, how, obj, func)\u001b[0m\n\u001b[1;32m    661\u001b[0m     cols \u001b[38;5;241m=\u001b[39m Index(\u001b[38;5;28mlist\u001b[39m(func\u001b[38;5;241m.\u001b[39mkeys()))\u001b[38;5;241m.\u001b[39mdifference(obj\u001b[38;5;241m.\u001b[39mcolumns, sort\u001b[38;5;241m=\u001b[39m\u001b[38;5;28;01mTrue\u001b[39;00m)\n\u001b[1;32m    662\u001b[0m     \u001b[38;5;28;01mif\u001b[39;00m \u001b[38;5;28mlen\u001b[39m(cols) \u001b[38;5;241m>\u001b[39m \u001b[38;5;241m0\u001b[39m:\n\u001b[0;32m--> 663\u001b[0m         \u001b[38;5;28;01mraise\u001b[39;00m \u001b[38;5;167;01mKeyError\u001b[39;00m(\u001b[38;5;124mf\u001b[39m\u001b[38;5;124m\"\u001b[39m\u001b[38;5;124mColumn(s) \u001b[39m\u001b[38;5;132;01m{\u001b[39;00m\u001b[38;5;28mlist\u001b[39m(cols)\u001b[38;5;132;01m}\u001b[39;00m\u001b[38;5;124m do not exist\u001b[39m\u001b[38;5;124m\"\u001b[39m)\n\u001b[1;32m    665\u001b[0m aggregator_types \u001b[38;5;241m=\u001b[39m (\u001b[38;5;28mlist\u001b[39m, \u001b[38;5;28mtuple\u001b[39m, \u001b[38;5;28mdict\u001b[39m)\n\u001b[1;32m    667\u001b[0m \u001b[38;5;66;03m# if we have a dict of any non-scalars\u001b[39;00m\n\u001b[1;32m    668\u001b[0m \u001b[38;5;66;03m# eg. {'A' : ['mean']}, normalize all to\u001b[39;00m\n\u001b[1;32m    669\u001b[0m \u001b[38;5;66;03m# be list-likes\u001b[39;00m\n\u001b[1;32m    670\u001b[0m \u001b[38;5;66;03m# Cannot use func.values() because arg may be a Series\u001b[39;00m\n",
      "\u001b[0;31mKeyError\u001b[0m: \"Column(s) ['visit_id'] do not exist\""
     ]
    }
   ],
   "source": [
    "registrations_grouped = registrations.groupby(['date','platform']).agg(visits=('visit_id', 'size')).reset_index()\n",
    "# registrations_grouped.rename(columns={'date': 'date_group'}, inplace=True)\n",
    "registrations_grouped"
   ]
  },
  {
   "cell_type": "code",
   "execution_count": null,
   "id": "093d129a-bd4b-45ad-8002-4795478b1e17",
   "metadata": {},
   "outputs": [],
   "source": []
  }
 ],
 "metadata": {
  "kernelspec": {
   "display_name": "Python 3 (ipykernel)",
   "language": "python",
   "name": "python3"
  },
  "language_info": {
   "codemirror_mode": {
    "name": "ipython",
    "version": 3
   },
   "file_extension": ".py",
   "mimetype": "text/x-python",
   "name": "python",
   "nbconvert_exporter": "python",
   "pygments_lexer": "ipython3",
   "version": "3.12.4"
  }
 },
 "nbformat": 4,
 "nbformat_minor": 5
}
