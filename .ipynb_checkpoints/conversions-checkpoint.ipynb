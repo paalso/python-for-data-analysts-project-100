{
 "cells": [
  {
   "cell_type": "code",
   "execution_count": 70,
   "id": "9485a6f4-912e-4cf2-9afd-edde0cf93696",
   "metadata": {},
   "outputs": [],
   "source": [
    "import pandas as pd\n",
    "import re\n",
    "import requests"
   ]
  },
  {
   "cell_type": "markdown",
   "id": "d1694c05-824e-4628-981a-361533c49ab7",
   "metadata": {},
   "source": [
    "#### Данные:\n",
    "\n",
    "[Визиты](https://drive.google.com/file/d/1QosQQ4RRNR9rkL4t7sB707h2Uy0XfYJe/view?usp=drive_link) - тысяча записей с визитами\n",
    "\n",
    "[Регистрации](https://drive.google.com/file/d/1AeQz0kaSgz0lxYSDtuNm36muhy5fRCzZ/view?usp=drive_link) - тысяча записей о первых регистрациях\n"
   ]
  },
  {
   "cell_type": "code",
   "execution_count": 152,
   "id": "f2544929-663c-448d-a3a3-e0282c253286",
   "metadata": {},
   "outputs": [],
   "source": [
    "visits_file_link = 'https://drive.google.com/file/d/1QosQQ4RRNR9rkL4t_7sB707h2Uy0XfYJe/view?usp=drive_link'\n",
    "registrations_file_link = 'https://drive.google.com/file/d/1AeQz0kaSgz0lxYSDtuNm36muhy5fRCzZ/view?usp=drive_link'"
   ]
  },
  {
   "cell_type": "code",
   "execution_count": 154,
   "id": "3517598a-17a8-48f2-b48b-1f1e18ebeac7",
   "metadata": {},
   "outputs": [],
   "source": [
    "def get_file_id(google_file_link):\n",
    "    search_result = re.search(r'/d/([_\\w]+)/', google_file_link)\n",
    "    if search_result:\n",
    "        return search_result.group(1)\n",
    "\n",
    "\n",
    "def get_download_link(file_id):\n",
    "    return f'https://drive.google.com/uc?export=download&id={file_id}'"
   ]
  },
  {
   "cell_type": "code",
   "execution_count": 164,
   "id": "e9bfc087-4858-4dc0-9e4f-981053a22593",
   "metadata": {},
   "outputs": [
    {
     "data": {
      "text/plain": [
       "'https://drive.google.com/uc?export=download&id=1QosQQ4RRNR9rkL4t_7sB707h2Uy0XfYJe'"
      ]
     },
     "execution_count": 164,
     "metadata": {},
     "output_type": "execute_result"
    }
   ],
   "source": [
    "visits_link = get_download_link(visits_file_id)\n",
    "visits_link"
   ]
  },
  {
   "cell_type": "code",
   "execution_count": 158,
   "id": "c09fdbb5-265c-43f6-91c6-c3ed3070471c",
   "metadata": {},
   "outputs": [],
   "source": [
    "with open('visits_1k.csv', 'wb') as file:\n",
    "    file.write(response.content)"
   ]
  },
  {
   "cell_type": "code",
   "execution_count": 160,
   "id": "8e88264e-de10-4bee-8337-858e0292e931",
   "metadata": {},
   "outputs": [],
   "source": [
    "visits_link = get_download_link(get_file_id(visits_file_link))\n",
    "registrations_file = get_download_link(get_file_id(registrayions_file_link))"
   ]
  },
  {
   "cell_type": "code",
   "execution_count": 162,
   "id": "65184cae-59fd-4d11-a07f-5ca5708a4ddc",
   "metadata": {},
   "outputs": [
    {
     "data": {
      "text/plain": [
       "'https://drive.google.com/file/d/1AeQz0kaSgz0lxYSDtuNm36muhy5fRCzZ/view?usp=drive_link'"
      ]
     },
     "execution_count": 162,
     "metadata": {},
     "output_type": "execute_result"
    }
   ],
   "source": [
    "registrayions_link"
   ]
  },
  {
   "cell_type": "code",
   "execution_count": null,
   "id": "636ba981-d6ec-465c-abd3-a19de55dd788",
   "metadata": {},
   "outputs": [],
   "source": []
  }
 ],
 "metadata": {
  "kernelspec": {
   "display_name": "Python 3 (ipykernel)",
   "language": "python",
   "name": "python3"
  },
  "language_info": {
   "codemirror_mode": {
    "name": "ipython",
    "version": 3
   },
   "file_extension": ".py",
   "mimetype": "text/x-python",
   "name": "python",
   "nbconvert_exporter": "python",
   "pygments_lexer": "ipython3",
   "version": "3.12.4"
  }
 },
 "nbformat": 4,
 "nbformat_minor": 5
}
