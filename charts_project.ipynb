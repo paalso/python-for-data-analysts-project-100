{
 "cells": [
  {
   "cell_type": "markdown",
   "id": "6ac350f4-47c7-4edc-a336-116a9bfc81bc",
   "metadata": {},
   "source": [
    "# [Модуль \"Pythob для аналитиков данных\"](https://ru.hexlet.io/programs/python-for-data-analysts)\n",
    "\n",
    "## [Проект: Дашборд конверсий](https://ru.hexlet.io/programs/python-for-data-analysts/projects/100)\n"
   ]
  },
  {
   "cell_type": "code",
   "execution_count": 569,
   "id": "9485a6f4-912e-4cf2-9afd-edde0cf93696",
   "metadata": {},
   "outputs": [],
   "source": [
    "from dotenv import load_dotenv\n",
    "import pandas as pd\n",
    "import os\n",
    "import re\n",
    "import requests\n",
    "\n",
    "import matplotlib.pyplot as plt\n",
    "import matplotlib.dates as mdates"
   ]
  },
  {
   "cell_type": "markdown",
   "id": "d1694c05-824e-4628-981a-361533c49ab7",
   "metadata": {},
   "source": [
    "#### Данные (образец):\n",
    "\n",
    "[Визиты](https://drive.google.com/file/d/1QosQQ4RRNR9rkL4t7sB707h2Uy0XfYJe/view?usp=drive_link) - тысяча записей с визитами\n",
    "\n",
    "[Регистрации](https://drive.google.com/file/d/1AeQz0kaSgz0lxYSDtuNm36muhy5fRCzZ/view?usp=drive_link) - тысяча записей о первых регистрациях\n"
   ]
  },
  {
   "cell_type": "markdown",
   "id": "3c815d2d-de50-4470-8da9-55ad4abe6b16",
   "metadata": {},
   "source": [
    "## Скачивание данных"
   ]
  },
  {
   "cell_type": "code",
   "execution_count": 26,
   "id": "a72091fb-c056-4b50-b4ff-0fa8880670d8",
   "metadata": {},
   "outputs": [],
   "source": [
    "load_dotenv()\n",
    "\n",
    "DATE_BEGIN = os.getenv('DATE_BEGIN')\n",
    "DATE_END = os.getenv('DATE_END')\n",
    "API_URL = os.getenv('API_URL')"
   ]
  },
  {
   "cell_type": "code",
   "execution_count": 17,
   "id": "e221d836-5596-4959-9209-ec3664ac9376",
   "metadata": {},
   "outputs": [],
   "source": [
    "def download_from_api(url, endpoint, path_to_save, start_date=None, end_date=None):\n",
    "    download_link = f'{url}/{endpoint}'\n",
    "    if start_date or end_date:\n",
    "        download_link += \"?\"\n",
    "        if start_date:\n",
    "            download_link += f'begin={start_date}'\n",
    "        if end_date:\n",
    "            download_link += f'&end={end_date}' if start_date else f'end={end_date}'\n",
    "            \n",
    "    print(f'Download from the link {download_link}...')\n",
    "    response = requests.get(download_link)\n",
    "    if response.ok:\n",
    "        with open(path_to_save, 'wb') as file:\n",
    "            file.write(response.content)\n",
    "        print(f\"File successfully saved as '{path_to_save}'\")\n",
    "    else:\n",
    "        print(f\"Error downloading file: status code {response.status_code}\")"
   ]
  },
  {
   "cell_type": "code",
   "execution_count": 28,
   "id": "d9b1ee7b-48e3-4259-b615-7ed086307315",
   "metadata": {},
   "outputs": [],
   "source": [
    "visits_path = './data/visits.json'\n",
    "registrations_path = './data/registrations.json'"
   ]
  },
  {
   "cell_type": "markdown",
   "id": "d24ad6af-bfe8-4345-84e1-c336a3c4115e",
   "metadata": {},
   "source": [
    "#### Скачивание данных **visits**"
   ]
  },
  {
   "cell_type": "code",
   "execution_count": 28,
   "id": "6e6cf10d-3534-4f66-87a4-faa3f7b339c4",
   "metadata": {
    "scrolled": true
   },
   "outputs": [
    {
     "name": "stdout",
     "output_type": "stream",
     "text": [
      "Download from the link https://data-charts-api.hexlet.app/visits?begin=2023-03-01&end=2023-09-01...\n",
      "File successfully saved as './data/visits.json'\n"
     ]
    }
   ],
   "source": [
    "download_from_api(url=API_URL,\n",
    "         endpoint='visits',\n",
    "         path_to_save=visits_path,\n",
    "         start_date=DATE_BEGIN,\n",
    "         end_date=DATE_END)"
   ]
  },
  {
   "cell_type": "markdown",
   "id": "85e5e389-01a2-4bae-b28e-a71c7ffc8996",
   "metadata": {},
   "source": [
    "#### Скачивание данных **registrations**"
   ]
  },
  {
   "cell_type": "code",
   "execution_count": 31,
   "id": "000cabd9-906e-4190-b8f5-a18b44f51393",
   "metadata": {
    "scrolled": true
   },
   "outputs": [
    {
     "name": "stdout",
     "output_type": "stream",
     "text": [
      "Download from the link https://data-charts-api.hexlet.app/registrations?begin=2023-03-01&end=2023-09-01...\n",
      "File successfully saved as './data/registrations.json'\n"
     ]
    }
   ],
   "source": [
    "download_from_api(url=API_URL,\n",
    "         endpoint='registrations',\n",
    "         path_to_save=registrations_path,\n",
    "         start_date=DATE_BEGIN,\n",
    "         end_date=DATE_END)"
   ]
  },
  {
   "cell_type": "markdown",
   "id": "5c31bc1b-d668-418e-bfc1-103efe24e658",
   "metadata": {},
   "source": [
    "## Изучение датафреймов"
   ]
  },
  {
   "cell_type": "markdown",
   "id": "a30a3646-ef89-44d4-9213-2ed3911102d5",
   "metadata": {},
   "source": [
    "### visits"
   ]
  },
  {
   "cell_type": "code",
   "execution_count": 32,
   "id": "14d1df46-137b-4bf2-a8c8-a0cfd7654b57",
   "metadata": {},
   "outputs": [
    {
     "data": {
      "text/html": [
       "<div>\n",
       "<style scoped>\n",
       "    .dataframe tbody tr th:only-of-type {\n",
       "        vertical-align: middle;\n",
       "    }\n",
       "\n",
       "    .dataframe tbody tr th {\n",
       "        vertical-align: top;\n",
       "    }\n",
       "\n",
       "    .dataframe thead th {\n",
       "        text-align: right;\n",
       "    }\n",
       "</style>\n",
       "<table border=\"1\" class=\"dataframe\">\n",
       "  <thead>\n",
       "    <tr style=\"text-align: right;\">\n",
       "      <th></th>\n",
       "      <th>visit_id</th>\n",
       "      <th>platform</th>\n",
       "      <th>user_agent</th>\n",
       "      <th>datetime</th>\n",
       "    </tr>\n",
       "  </thead>\n",
       "  <tbody>\n",
       "    <tr>\n",
       "      <th>0</th>\n",
       "      <td>1de9ea66-70d3-4a1f-8735-df5ef7697fb9</td>\n",
       "      <td>web</td>\n",
       "      <td>Mozilla/5.0 (Windows NT 10.0; Win64; x64) Appl...</td>\n",
       "      <td>2023-03-01 10:36:22</td>\n",
       "    </tr>\n",
       "    <tr>\n",
       "      <th>1</th>\n",
       "      <td>f149f542-e935-4870-9734-6b4501eaf614</td>\n",
       "      <td>web</td>\n",
       "      <td>Mozilla/5.0 (Windows NT 10.0; WOW64; Trident/7...</td>\n",
       "      <td>2023-03-01 06:25:00</td>\n",
       "    </tr>\n",
       "    <tr>\n",
       "      <th>2</th>\n",
       "      <td>08f0ebd4-950c-4dd9-8e97-b5bdf073eed1</td>\n",
       "      <td>web</td>\n",
       "      <td>Mozilla/5.0 (Macintosh; Intel Mac OS X 10_11_2...</td>\n",
       "      <td>2023-03-01 10:26:13</td>\n",
       "    </tr>\n",
       "  </tbody>\n",
       "</table>\n",
       "</div>"
      ],
      "text/plain": [
       "                               visit_id platform  \\\n",
       "0  1de9ea66-70d3-4a1f-8735-df5ef7697fb9      web   \n",
       "1  f149f542-e935-4870-9734-6b4501eaf614      web   \n",
       "2  08f0ebd4-950c-4dd9-8e97-b5bdf073eed1      web   \n",
       "\n",
       "                                          user_agent            datetime  \n",
       "0  Mozilla/5.0 (Windows NT 10.0; Win64; x64) Appl... 2023-03-01 10:36:22  \n",
       "1  Mozilla/5.0 (Windows NT 10.0; WOW64; Trident/7... 2023-03-01 06:25:00  \n",
       "2  Mozilla/5.0 (Macintosh; Intel Mac OS X 10_11_2... 2023-03-01 10:26:13  "
      ]
     },
     "execution_count": 32,
     "metadata": {},
     "output_type": "execute_result"
    }
   ],
   "source": [
    "visits = pd.read_json(visits_path)\n",
    "visits.head(3)"
   ]
  },
  {
   "cell_type": "code",
   "execution_count": 33,
   "id": "555f8dc9-dc80-43b6-a522-c27ede4ec59d",
   "metadata": {
    "scrolled": true
   },
   "outputs": [
    {
     "name": "stdout",
     "output_type": "stream",
     "text": [
      "<class 'pandas.core.frame.DataFrame'>\n",
      "RangeIndex: 263459 entries, 0 to 263458\n",
      "Data columns (total 4 columns):\n",
      " #   Column      Non-Null Count   Dtype         \n",
      "---  ------      --------------   -----         \n",
      " 0   visit_id    263459 non-null  object        \n",
      " 1   platform    263459 non-null  object        \n",
      " 2   user_agent  263459 non-null  object        \n",
      " 3   datetime    263459 non-null  datetime64[ns]\n",
      "dtypes: datetime64[ns](1), object(3)\n",
      "memory usage: 8.0+ MB\n"
     ]
    }
   ],
   "source": [
    "visits.info()"
   ]
  },
  {
   "cell_type": "code",
   "execution_count": 34,
   "id": "41ec0ea7-1e6d-41d6-bbd5-bb104af06952",
   "metadata": {},
   "outputs": [
    {
     "data": {
      "text/html": [
       "<div>\n",
       "<style scoped>\n",
       "    .dataframe tbody tr th:only-of-type {\n",
       "        vertical-align: middle;\n",
       "    }\n",
       "\n",
       "    .dataframe tbody tr th {\n",
       "        vertical-align: top;\n",
       "    }\n",
       "\n",
       "    .dataframe thead th {\n",
       "        text-align: right;\n",
       "    }\n",
       "</style>\n",
       "<table border=\"1\" class=\"dataframe\">\n",
       "  <thead>\n",
       "    <tr style=\"text-align: right;\">\n",
       "      <th></th>\n",
       "      <th>datetime</th>\n",
       "    </tr>\n",
       "  </thead>\n",
       "  <tbody>\n",
       "    <tr>\n",
       "      <th>count</th>\n",
       "      <td>263459</td>\n",
       "    </tr>\n",
       "    <tr>\n",
       "      <th>mean</th>\n",
       "      <td>2023-06-01 06:22:22.042044672</td>\n",
       "    </tr>\n",
       "    <tr>\n",
       "      <th>min</th>\n",
       "      <td>2023-03-01 00:00:43</td>\n",
       "    </tr>\n",
       "    <tr>\n",
       "      <th>25%</th>\n",
       "      <td>2023-04-13 19:45:03</td>\n",
       "    </tr>\n",
       "    <tr>\n",
       "      <th>50%</th>\n",
       "      <td>2023-06-03 12:23:27</td>\n",
       "    </tr>\n",
       "    <tr>\n",
       "      <th>75%</th>\n",
       "      <td>2023-07-17 22:09:08</td>\n",
       "    </tr>\n",
       "    <tr>\n",
       "      <th>max</th>\n",
       "      <td>2023-08-31 23:52:57</td>\n",
       "    </tr>\n",
       "  </tbody>\n",
       "</table>\n",
       "</div>"
      ],
      "text/plain": [
       "                            datetime\n",
       "count                         263459\n",
       "mean   2023-06-01 06:22:22.042044672\n",
       "min              2023-03-01 00:00:43\n",
       "25%              2023-04-13 19:45:03\n",
       "50%              2023-06-03 12:23:27\n",
       "75%              2023-07-17 22:09:08\n",
       "max              2023-08-31 23:52:57"
      ]
     },
     "execution_count": 34,
     "metadata": {},
     "output_type": "execute_result"
    }
   ],
   "source": [
    "visits.describe()"
   ]
  },
  {
   "cell_type": "code",
   "execution_count": 35,
   "id": "e2fc87c1-dc2a-4c11-bcfa-88d801cadd39",
   "metadata": {},
   "outputs": [
    {
     "data": {
      "text/html": [
       "<div>\n",
       "<style scoped>\n",
       "    .dataframe tbody tr th:only-of-type {\n",
       "        vertical-align: middle;\n",
       "    }\n",
       "\n",
       "    .dataframe tbody tr th {\n",
       "        vertical-align: top;\n",
       "    }\n",
       "\n",
       "    .dataframe thead th {\n",
       "        text-align: right;\n",
       "    }\n",
       "</style>\n",
       "<table border=\"1\" class=\"dataframe\">\n",
       "  <thead>\n",
       "    <tr style=\"text-align: right;\">\n",
       "      <th></th>\n",
       "      <th>visit_id</th>\n",
       "      <th>platform</th>\n",
       "      <th>user_agent</th>\n",
       "      <th>datetime</th>\n",
       "    </tr>\n",
       "  </thead>\n",
       "  <tbody>\n",
       "    <tr>\n",
       "      <th>0</th>\n",
       "      <td>1de9ea66-70d3-4a1f-8735-df5ef7697fb9</td>\n",
       "      <td>web</td>\n",
       "      <td>Mozilla/5.0 (Windows NT 10.0; Win64; x64) Appl...</td>\n",
       "      <td>2023-03-01 10:36:22</td>\n",
       "    </tr>\n",
       "    <tr>\n",
       "      <th>1</th>\n",
       "      <td>f149f542-e935-4870-9734-6b4501eaf614</td>\n",
       "      <td>web</td>\n",
       "      <td>Mozilla/5.0 (Windows NT 10.0; WOW64; Trident/7...</td>\n",
       "      <td>2023-03-01 06:25:00</td>\n",
       "    </tr>\n",
       "    <tr>\n",
       "      <th>2</th>\n",
       "      <td>08f0ebd4-950c-4dd9-8e97-b5bdf073eed1</td>\n",
       "      <td>web</td>\n",
       "      <td>Mozilla/5.0 (Macintosh; Intel Mac OS X 10_11_2...</td>\n",
       "      <td>2023-03-01 10:26:13</td>\n",
       "    </tr>\n",
       "  </tbody>\n",
       "</table>\n",
       "</div>"
      ],
      "text/plain": [
       "                               visit_id platform  \\\n",
       "0  1de9ea66-70d3-4a1f-8735-df5ef7697fb9      web   \n",
       "1  f149f542-e935-4870-9734-6b4501eaf614      web   \n",
       "2  08f0ebd4-950c-4dd9-8e97-b5bdf073eed1      web   \n",
       "\n",
       "                                          user_agent            datetime  \n",
       "0  Mozilla/5.0 (Windows NT 10.0; Win64; x64) Appl... 2023-03-01 10:36:22  \n",
       "1  Mozilla/5.0 (Windows NT 10.0; WOW64; Trident/7... 2023-03-01 06:25:00  \n",
       "2  Mozilla/5.0 (Macintosh; Intel Mac OS X 10_11_2... 2023-03-01 10:26:13  "
      ]
     },
     "execution_count": 35,
     "metadata": {},
     "output_type": "execute_result"
    }
   ],
   "source": [
    "visits.head(3)"
   ]
  },
  {
   "cell_type": "markdown",
   "id": "577a59d5-4227-435f-842b-19acf7b5526b",
   "metadata": {},
   "source": [
    "### registrations"
   ]
  },
  {
   "cell_type": "code",
   "execution_count": 37,
   "id": "faef8ba9-aea8-4565-936e-d9654656e18c",
   "metadata": {},
   "outputs": [
    {
     "data": {
      "text/html": [
       "<div>\n",
       "<style scoped>\n",
       "    .dataframe tbody tr th:only-of-type {\n",
       "        vertical-align: middle;\n",
       "    }\n",
       "\n",
       "    .dataframe tbody tr th {\n",
       "        vertical-align: top;\n",
       "    }\n",
       "\n",
       "    .dataframe thead th {\n",
       "        text-align: right;\n",
       "    }\n",
       "</style>\n",
       "<table border=\"1\" class=\"dataframe\">\n",
       "  <thead>\n",
       "    <tr style=\"text-align: right;\">\n",
       "      <th></th>\n",
       "      <th>datetime</th>\n",
       "      <th>user_id</th>\n",
       "      <th>email</th>\n",
       "      <th>platform</th>\n",
       "      <th>registration_type</th>\n",
       "    </tr>\n",
       "  </thead>\n",
       "  <tbody>\n",
       "    <tr>\n",
       "      <th>0</th>\n",
       "      <td>2023-03-01 07:40:13</td>\n",
       "      <td>2e0f6bb8-b029-4f45-a786-2b53990d37f1</td>\n",
       "      <td>ebyrd@example.org</td>\n",
       "      <td>web</td>\n",
       "      <td>google</td>\n",
       "    </tr>\n",
       "    <tr>\n",
       "      <th>1</th>\n",
       "      <td>2023-03-01 13:14:00</td>\n",
       "      <td>f007f97c-9d8b-48b5-af08-119bb8f6d9b6</td>\n",
       "      <td>knightgerald@example.org</td>\n",
       "      <td>web</td>\n",
       "      <td>email</td>\n",
       "    </tr>\n",
       "    <tr>\n",
       "      <th>2</th>\n",
       "      <td>2023-03-01 03:05:50</td>\n",
       "      <td>24ff46ae-32b3-4a74-8f27-7cf0b8f32f15</td>\n",
       "      <td>cherylthompson@example.com</td>\n",
       "      <td>web</td>\n",
       "      <td>apple</td>\n",
       "    </tr>\n",
       "  </tbody>\n",
       "</table>\n",
       "</div>"
      ],
      "text/plain": [
       "             datetime                               user_id  \\\n",
       "0 2023-03-01 07:40:13  2e0f6bb8-b029-4f45-a786-2b53990d37f1   \n",
       "1 2023-03-01 13:14:00  f007f97c-9d8b-48b5-af08-119bb8f6d9b6   \n",
       "2 2023-03-01 03:05:50  24ff46ae-32b3-4a74-8f27-7cf0b8f32f15   \n",
       "\n",
       "                        email platform registration_type  \n",
       "0           ebyrd@example.org      web            google  \n",
       "1    knightgerald@example.org      web             email  \n",
       "2  cherylthompson@example.com      web             apple  "
      ]
     },
     "execution_count": 37,
     "metadata": {},
     "output_type": "execute_result"
    }
   ],
   "source": [
    "registrations = pd.read_json(registrations_path)\n",
    "registrations.head(3)"
   ]
  },
  {
   "cell_type": "code",
   "execution_count": 38,
   "id": "48365423-a647-4a15-a86c-81d128e1e52a",
   "metadata": {},
   "outputs": [
    {
     "name": "stdout",
     "output_type": "stream",
     "text": [
      "<class 'pandas.core.frame.DataFrame'>\n",
      "RangeIndex: 21836 entries, 0 to 21835\n",
      "Data columns (total 5 columns):\n",
      " #   Column             Non-Null Count  Dtype         \n",
      "---  ------             --------------  -----         \n",
      " 0   datetime           21836 non-null  datetime64[ns]\n",
      " 1   user_id            21836 non-null  object        \n",
      " 2   email              21836 non-null  object        \n",
      " 3   platform           21836 non-null  object        \n",
      " 4   registration_type  21836 non-null  object        \n",
      "dtypes: datetime64[ns](1), object(4)\n",
      "memory usage: 853.1+ KB\n"
     ]
    }
   ],
   "source": [
    "registrations.info()"
   ]
  },
  {
   "cell_type": "code",
   "execution_count": 39,
   "id": "25451f87-b958-42a6-bfb0-9ff6870ea7b5",
   "metadata": {},
   "outputs": [
    {
     "data": {
      "text/html": [
       "<div>\n",
       "<style scoped>\n",
       "    .dataframe tbody tr th:only-of-type {\n",
       "        vertical-align: middle;\n",
       "    }\n",
       "\n",
       "    .dataframe tbody tr th {\n",
       "        vertical-align: top;\n",
       "    }\n",
       "\n",
       "    .dataframe thead th {\n",
       "        text-align: right;\n",
       "    }\n",
       "</style>\n",
       "<table border=\"1\" class=\"dataframe\">\n",
       "  <thead>\n",
       "    <tr style=\"text-align: right;\">\n",
       "      <th></th>\n",
       "      <th>datetime</th>\n",
       "    </tr>\n",
       "  </thead>\n",
       "  <tbody>\n",
       "    <tr>\n",
       "      <th>count</th>\n",
       "      <td>21836</td>\n",
       "    </tr>\n",
       "    <tr>\n",
       "      <th>mean</th>\n",
       "      <td>2023-05-29 10:17:02.002747904</td>\n",
       "    </tr>\n",
       "    <tr>\n",
       "      <th>min</th>\n",
       "      <td>2023-03-01 00:04:47</td>\n",
       "    </tr>\n",
       "    <tr>\n",
       "      <th>25%</th>\n",
       "      <td>2023-04-12 01:49:47.500000</td>\n",
       "    </tr>\n",
       "    <tr>\n",
       "      <th>50%</th>\n",
       "      <td>2023-05-26 13:22:09</td>\n",
       "    </tr>\n",
       "    <tr>\n",
       "      <th>75%</th>\n",
       "      <td>2023-07-15 17:26:30.500000</td>\n",
       "    </tr>\n",
       "    <tr>\n",
       "      <th>max</th>\n",
       "      <td>2023-08-31 23:43:26</td>\n",
       "    </tr>\n",
       "  </tbody>\n",
       "</table>\n",
       "</div>"
      ],
      "text/plain": [
       "                            datetime\n",
       "count                          21836\n",
       "mean   2023-05-29 10:17:02.002747904\n",
       "min              2023-03-01 00:04:47\n",
       "25%       2023-04-12 01:49:47.500000\n",
       "50%              2023-05-26 13:22:09\n",
       "75%       2023-07-15 17:26:30.500000\n",
       "max              2023-08-31 23:43:26"
      ]
     },
     "execution_count": 39,
     "metadata": {},
     "output_type": "execute_result"
    }
   ],
   "source": [
    "registrations.describe()"
   ]
  },
  {
   "cell_type": "code",
   "execution_count": 40,
   "id": "fcb69a15-16ac-4291-8850-6e038d1751c4",
   "metadata": {},
   "outputs": [
    {
     "data": {
      "text/html": [
       "<div>\n",
       "<style scoped>\n",
       "    .dataframe tbody tr th:only-of-type {\n",
       "        vertical-align: middle;\n",
       "    }\n",
       "\n",
       "    .dataframe tbody tr th {\n",
       "        vertical-align: top;\n",
       "    }\n",
       "\n",
       "    .dataframe thead th {\n",
       "        text-align: right;\n",
       "    }\n",
       "</style>\n",
       "<table border=\"1\" class=\"dataframe\">\n",
       "  <thead>\n",
       "    <tr style=\"text-align: right;\">\n",
       "      <th></th>\n",
       "      <th>datetime</th>\n",
       "      <th>user_id</th>\n",
       "      <th>email</th>\n",
       "      <th>platform</th>\n",
       "      <th>registration_type</th>\n",
       "    </tr>\n",
       "  </thead>\n",
       "  <tbody>\n",
       "    <tr>\n",
       "      <th>0</th>\n",
       "      <td>2023-03-01 07:40:13</td>\n",
       "      <td>2e0f6bb8-b029-4f45-a786-2b53990d37f1</td>\n",
       "      <td>ebyrd@example.org</td>\n",
       "      <td>web</td>\n",
       "      <td>google</td>\n",
       "    </tr>\n",
       "    <tr>\n",
       "      <th>1</th>\n",
       "      <td>2023-03-01 13:14:00</td>\n",
       "      <td>f007f97c-9d8b-48b5-af08-119bb8f6d9b6</td>\n",
       "      <td>knightgerald@example.org</td>\n",
       "      <td>web</td>\n",
       "      <td>email</td>\n",
       "    </tr>\n",
       "    <tr>\n",
       "      <th>2</th>\n",
       "      <td>2023-03-01 03:05:50</td>\n",
       "      <td>24ff46ae-32b3-4a74-8f27-7cf0b8f32f15</td>\n",
       "      <td>cherylthompson@example.com</td>\n",
       "      <td>web</td>\n",
       "      <td>apple</td>\n",
       "    </tr>\n",
       "  </tbody>\n",
       "</table>\n",
       "</div>"
      ],
      "text/plain": [
       "             datetime                               user_id  \\\n",
       "0 2023-03-01 07:40:13  2e0f6bb8-b029-4f45-a786-2b53990d37f1   \n",
       "1 2023-03-01 13:14:00  f007f97c-9d8b-48b5-af08-119bb8f6d9b6   \n",
       "2 2023-03-01 03:05:50  24ff46ae-32b3-4a74-8f27-7cf0b8f32f15   \n",
       "\n",
       "                        email platform registration_type  \n",
       "0           ebyrd@example.org      web            google  \n",
       "1    knightgerald@example.org      web             email  \n",
       "2  cherylthompson@example.com      web             apple  "
      ]
     },
     "execution_count": 40,
     "metadata": {},
     "output_type": "execute_result"
    }
   ],
   "source": [
    "registrations.head(3)"
   ]
  },
  {
   "cell_type": "markdown",
   "id": "75c27b83-276b-40bb-be60-7dce56d33f8b",
   "metadata": {},
   "source": [
    "## Расчет метрик"
   ]
  },
  {
   "cell_type": "markdown",
   "id": "4739ec40-cb1d-49b3-b3ba-e44a351dd58d",
   "metadata": {},
   "source": [
    "* Сгруппировать данные визитов по датам и платформам\n",
    "* Сгруппировать также данные регистраций по датам и платформам\n",
    "* Объединить датайфреймы, сделать итоговый датафрейм с расчетом конверсии\n",
    "* Сохранить датафрейм в формате JSON *conversion.json*\n",
    "* Поля датафрейма:\n",
    "  - date_group - сагрегированный столбец дат\n",
    "  - platform - платформа (android,web,ios)\n",
    "  - visits - визиты за период date_group\n",
    "  - registrations - регистрации за период date_group\n",
    "  - conversion - конверсия по платформе"
   ]
  },
  {
   "cell_type": "code",
   "execution_count": 114,
   "id": "26d29ee0-1b94-43a1-98bb-e9e63f18af58",
   "metadata": {},
   "outputs": [],
   "source": [
    "path_to_save_conversions = './conversion.json'"
   ]
  },
  {
   "cell_type": "markdown",
   "id": "5e625424-25d0-4f24-8a2d-9bba617009d7",
   "metadata": {},
   "source": [
    "#### Группировка данных визитов по датам и платформам"
   ]
  },
  {
   "cell_type": "markdown",
   "id": "970f836d-02f0-4770-8a9f-87cc0f1f0566",
   "metadata": {},
   "source": [
    "#### Подготовка данных:\n",
    "* преобразование datetime -> date\n",
    "* удаление дубликатов записей с одинаковым id\n",
    "* удаление записей визитов ботов"
   ]
  },
  {
   "cell_type": "code",
   "execution_count": 45,
   "id": "eaed73e5-448b-4d86-9f6f-5a7f9cf6a43a",
   "metadata": {},
   "outputs": [],
   "source": [
    "def prepare_visits_data(visits):\n",
    "    # Визиты ботов не должны влиять на расчет конверсии\n",
    "    prepared_visits = visits[~visits.user_agent.str.contains('bot')].copy()\n",
    "    \n",
    "    # Преобразование datetime -> date\n",
    "    prepared_visits['date'] = pd.to_datetime(prepared_visits.pop('datetime')).dt.date\n",
    "\n",
    "    # Пользователи могли заходить на сайт несколько раз, прежде чем зарегистрироваться.\n",
    "    # Оставить последний визит для каждого visit_id\n",
    "    prepared_visits.sort_values(by=['visit_id', 'date'], ascending=[True, False], inplace=True)\n",
    "    prepared_visits = prepared_visits.drop_duplicates(subset='visit_id', keep='first')\n",
    "    \n",
    "    prepared_visits.sort_values(by='date', inplace=True)\n",
    "    return prepared_visits"
   ]
  },
  {
   "cell_type": "code",
   "execution_count": 46,
   "id": "9a1b9546-4c83-4f49-9cd4-46a9d6fcc01f",
   "metadata": {},
   "outputs": [],
   "source": [
    "def prepare_registrations_data(registrations):\n",
    "    # Преобразование datetime -> date\n",
    "    prepared_registrations = registrations.copy()\n",
    "    prepared_registrations['date'] = pd.to_datetime(registrations.datetime).dt.date\n",
    "    prepared_registrations.sort_values(by='date', inplace=True)\n",
    "    return prepared_registrations"
   ]
  },
  {
   "cell_type": "code",
   "execution_count": 47,
   "id": "02c754ac-d644-453c-a52c-1e6244a8fcc2",
   "metadata": {},
   "outputs": [
    {
     "data": {
      "text/html": [
       "<div>\n",
       "<style scoped>\n",
       "    .dataframe tbody tr th:only-of-type {\n",
       "        vertical-align: middle;\n",
       "    }\n",
       "\n",
       "    .dataframe tbody tr th {\n",
       "        vertical-align: top;\n",
       "    }\n",
       "\n",
       "    .dataframe thead th {\n",
       "        text-align: right;\n",
       "    }\n",
       "</style>\n",
       "<table border=\"1\" class=\"dataframe\">\n",
       "  <thead>\n",
       "    <tr style=\"text-align: right;\">\n",
       "      <th></th>\n",
       "      <th>visit_id</th>\n",
       "      <th>platform</th>\n",
       "      <th>user_agent</th>\n",
       "      <th>date</th>\n",
       "    </tr>\n",
       "  </thead>\n",
       "  <tbody>\n",
       "    <tr>\n",
       "      <th>89</th>\n",
       "      <td>58b3098c-99b9-4557-a7bc-ee9f5e993811</td>\n",
       "      <td>web</td>\n",
       "      <td>Mozilla/5.0 (Macintosh; Intel Mac OS X 10_11_2...</td>\n",
       "      <td>2023-03-01</td>\n",
       "    </tr>\n",
       "    <tr>\n",
       "      <th>159</th>\n",
       "      <td>d698a72c-5ce4-438d-8afd-1877527e1ca8</td>\n",
       "      <td>web</td>\n",
       "      <td>Mozilla/5.0 (Windows NT 10.0; Win64; x64) Appl...</td>\n",
       "      <td>2023-03-01</td>\n",
       "    </tr>\n",
       "    <tr>\n",
       "      <th>58</th>\n",
       "      <td>3480251a-dbd2-4b62-ae57-a9865c7b2cec</td>\n",
       "      <td>web</td>\n",
       "      <td>Mozilla/5.0 (Windows NT 10.0; Win64; x64) Appl...</td>\n",
       "      <td>2023-03-01</td>\n",
       "    </tr>\n",
       "  </tbody>\n",
       "</table>\n",
       "</div>"
      ],
      "text/plain": [
       "                                 visit_id platform  \\\n",
       "89   58b3098c-99b9-4557-a7bc-ee9f5e993811      web   \n",
       "159  d698a72c-5ce4-438d-8afd-1877527e1ca8      web   \n",
       "58   3480251a-dbd2-4b62-ae57-a9865c7b2cec      web   \n",
       "\n",
       "                                            user_agent        date  \n",
       "89   Mozilla/5.0 (Macintosh; Intel Mac OS X 10_11_2...  2023-03-01  \n",
       "159  Mozilla/5.0 (Windows NT 10.0; Win64; x64) Appl...  2023-03-01  \n",
       "58   Mozilla/5.0 (Windows NT 10.0; Win64; x64) Appl...  2023-03-01  "
      ]
     },
     "execution_count": 47,
     "metadata": {},
     "output_type": "execute_result"
    }
   ],
   "source": [
    "prepared_visits = prepare_visits_data(visits)\n",
    "prepared_visits.head(3)"
   ]
  },
  {
   "cell_type": "code",
   "execution_count": 59,
   "id": "8b4a3c4d-cb3c-45ca-92cd-7254c8a39602",
   "metadata": {},
   "outputs": [
    {
     "data": {
      "text/html": [
       "<div>\n",
       "<style scoped>\n",
       "    .dataframe tbody tr th:only-of-type {\n",
       "        vertical-align: middle;\n",
       "    }\n",
       "\n",
       "    .dataframe tbody tr th {\n",
       "        vertical-align: top;\n",
       "    }\n",
       "\n",
       "    .dataframe thead th {\n",
       "        text-align: right;\n",
       "    }\n",
       "</style>\n",
       "<table border=\"1\" class=\"dataframe\">\n",
       "  <thead>\n",
       "    <tr style=\"text-align: right;\">\n",
       "      <th></th>\n",
       "      <th>datetime</th>\n",
       "      <th>user_id</th>\n",
       "      <th>email</th>\n",
       "      <th>platform</th>\n",
       "      <th>registration_type</th>\n",
       "      <th>date</th>\n",
       "    </tr>\n",
       "  </thead>\n",
       "  <tbody>\n",
       "    <tr>\n",
       "      <th>0</th>\n",
       "      <td>2023-03-01 07:40:13</td>\n",
       "      <td>2e0f6bb8-b029-4f45-a786-2b53990d37f1</td>\n",
       "      <td>ebyrd@example.org</td>\n",
       "      <td>web</td>\n",
       "      <td>google</td>\n",
       "      <td>2023-03-01</td>\n",
       "    </tr>\n",
       "    <tr>\n",
       "      <th>63</th>\n",
       "      <td>2023-03-01 04:19:11</td>\n",
       "      <td>d241b05f-38b4-4eb7-9c1a-9e1caa00d83e</td>\n",
       "      <td>ingramgina@example.net</td>\n",
       "      <td>android</td>\n",
       "      <td>google</td>\n",
       "      <td>2023-03-01</td>\n",
       "    </tr>\n",
       "    <tr>\n",
       "      <th>62</th>\n",
       "      <td>2023-03-01 10:07:32</td>\n",
       "      <td>b612aff6-96dc-4a1b-b82a-000accb14d02</td>\n",
       "      <td>katelyn71@example.org</td>\n",
       "      <td>android</td>\n",
       "      <td>google</td>\n",
       "      <td>2023-03-01</td>\n",
       "    </tr>\n",
       "  </tbody>\n",
       "</table>\n",
       "</div>"
      ],
      "text/plain": [
       "              datetime                               user_id  \\\n",
       "0  2023-03-01 07:40:13  2e0f6bb8-b029-4f45-a786-2b53990d37f1   \n",
       "63 2023-03-01 04:19:11  d241b05f-38b4-4eb7-9c1a-9e1caa00d83e   \n",
       "62 2023-03-01 10:07:32  b612aff6-96dc-4a1b-b82a-000accb14d02   \n",
       "\n",
       "                     email platform registration_type        date  \n",
       "0        ebyrd@example.org      web            google  2023-03-01  \n",
       "63  ingramgina@example.net  android            google  2023-03-01  \n",
       "62   katelyn71@example.org  android            google  2023-03-01  "
      ]
     },
     "execution_count": 59,
     "metadata": {},
     "output_type": "execute_result"
    }
   ],
   "source": [
    "prepared_registrations = prepare_registrations_data(registrations)\n",
    "prepared_registrations.head(3)"
   ]
  },
  {
   "cell_type": "markdown",
   "id": "6ff7e08b-610c-4f87-8ab4-5d9518efee32",
   "metadata": {},
   "source": [
    "#### Группировка данных визитов по датам и платформам"
   ]
  },
  {
   "cell_type": "code",
   "execution_count": 61,
   "id": "dd5b7436-e9c4-4f20-b273-bfa3aba5bd93",
   "metadata": {
    "scrolled": true
   },
   "outputs": [
    {
     "data": {
      "text/html": [
       "<div>\n",
       "<style scoped>\n",
       "    .dataframe tbody tr th:only-of-type {\n",
       "        vertical-align: middle;\n",
       "    }\n",
       "\n",
       "    .dataframe tbody tr th {\n",
       "        vertical-align: top;\n",
       "    }\n",
       "\n",
       "    .dataframe thead th {\n",
       "        text-align: right;\n",
       "    }\n",
       "</style>\n",
       "<table border=\"1\" class=\"dataframe\">\n",
       "  <thead>\n",
       "    <tr style=\"text-align: right;\">\n",
       "      <th></th>\n",
       "      <th>date_group</th>\n",
       "      <th>platform</th>\n",
       "      <th>visits</th>\n",
       "    </tr>\n",
       "  </thead>\n",
       "  <tbody>\n",
       "    <tr>\n",
       "      <th>0</th>\n",
       "      <td>2023-03-01</td>\n",
       "      <td>android</td>\n",
       "      <td>75</td>\n",
       "    </tr>\n",
       "    <tr>\n",
       "      <th>1</th>\n",
       "      <td>2023-03-01</td>\n",
       "      <td>ios</td>\n",
       "      <td>22</td>\n",
       "    </tr>\n",
       "    <tr>\n",
       "      <th>2</th>\n",
       "      <td>2023-03-01</td>\n",
       "      <td>web</td>\n",
       "      <td>279</td>\n",
       "    </tr>\n",
       "    <tr>\n",
       "      <th>3</th>\n",
       "      <td>2023-03-02</td>\n",
       "      <td>android</td>\n",
       "      <td>67</td>\n",
       "    </tr>\n",
       "    <tr>\n",
       "      <th>4</th>\n",
       "      <td>2023-03-02</td>\n",
       "      <td>ios</td>\n",
       "      <td>31</td>\n",
       "    </tr>\n",
       "    <tr>\n",
       "      <th>...</th>\n",
       "      <td>...</td>\n",
       "      <td>...</td>\n",
       "      <td>...</td>\n",
       "    </tr>\n",
       "    <tr>\n",
       "      <th>547</th>\n",
       "      <td>2023-08-30</td>\n",
       "      <td>ios</td>\n",
       "      <td>66</td>\n",
       "    </tr>\n",
       "    <tr>\n",
       "      <th>548</th>\n",
       "      <td>2023-08-30</td>\n",
       "      <td>web</td>\n",
       "      <td>1227</td>\n",
       "    </tr>\n",
       "    <tr>\n",
       "      <th>549</th>\n",
       "      <td>2023-08-31</td>\n",
       "      <td>android</td>\n",
       "      <td>57</td>\n",
       "    </tr>\n",
       "    <tr>\n",
       "      <th>550</th>\n",
       "      <td>2023-08-31</td>\n",
       "      <td>ios</td>\n",
       "      <td>50</td>\n",
       "    </tr>\n",
       "    <tr>\n",
       "      <th>551</th>\n",
       "      <td>2023-08-31</td>\n",
       "      <td>web</td>\n",
       "      <td>721</td>\n",
       "    </tr>\n",
       "  </tbody>\n",
       "</table>\n",
       "<p>552 rows × 3 columns</p>\n",
       "</div>"
      ],
      "text/plain": [
       "     date_group platform  visits\n",
       "0    2023-03-01  android      75\n",
       "1    2023-03-01      ios      22\n",
       "2    2023-03-01      web     279\n",
       "3    2023-03-02  android      67\n",
       "4    2023-03-02      ios      31\n",
       "..          ...      ...     ...\n",
       "547  2023-08-30      ios      66\n",
       "548  2023-08-30      web    1227\n",
       "549  2023-08-31  android      57\n",
       "550  2023-08-31      ios      50\n",
       "551  2023-08-31      web     721\n",
       "\n",
       "[552 rows x 3 columns]"
      ]
     },
     "execution_count": 61,
     "metadata": {},
     "output_type": "execute_result"
    }
   ],
   "source": [
    "grouped_visits = prepared_visits.groupby(['date','platform']).agg(visits=('visit_id', 'size')).reset_index()\n",
    "grouped_visits.rename(columns={'date': 'date_group'}, inplace=True)\n",
    "grouped_visits"
   ]
  },
  {
   "cell_type": "markdown",
   "id": "bf18441a-f5dd-4247-884e-831ea2cc1ac1",
   "metadata": {},
   "source": [
    "#### Группировка данных регистраций по датам и платформам"
   ]
  },
  {
   "cell_type": "code",
   "execution_count": 63,
   "id": "10785e40-1ff0-4bf4-bfd9-57bc711ce351",
   "metadata": {},
   "outputs": [
    {
     "data": {
      "text/html": [
       "<div>\n",
       "<style scoped>\n",
       "    .dataframe tbody tr th:only-of-type {\n",
       "        vertical-align: middle;\n",
       "    }\n",
       "\n",
       "    .dataframe tbody tr th {\n",
       "        vertical-align: top;\n",
       "    }\n",
       "\n",
       "    .dataframe thead th {\n",
       "        text-align: right;\n",
       "    }\n",
       "</style>\n",
       "<table border=\"1\" class=\"dataframe\">\n",
       "  <thead>\n",
       "    <tr style=\"text-align: right;\">\n",
       "      <th></th>\n",
       "      <th>date_group</th>\n",
       "      <th>platform</th>\n",
       "      <th>registrations</th>\n",
       "    </tr>\n",
       "  </thead>\n",
       "  <tbody>\n",
       "    <tr>\n",
       "      <th>0</th>\n",
       "      <td>2023-03-01</td>\n",
       "      <td>android</td>\n",
       "      <td>61</td>\n",
       "    </tr>\n",
       "    <tr>\n",
       "      <th>1</th>\n",
       "      <td>2023-03-01</td>\n",
       "      <td>ios</td>\n",
       "      <td>18</td>\n",
       "    </tr>\n",
       "    <tr>\n",
       "      <th>2</th>\n",
       "      <td>2023-03-01</td>\n",
       "      <td>web</td>\n",
       "      <td>8</td>\n",
       "    </tr>\n",
       "    <tr>\n",
       "      <th>3</th>\n",
       "      <td>2023-03-02</td>\n",
       "      <td>android</td>\n",
       "      <td>59</td>\n",
       "    </tr>\n",
       "    <tr>\n",
       "      <th>4</th>\n",
       "      <td>2023-03-02</td>\n",
       "      <td>ios</td>\n",
       "      <td>24</td>\n",
       "    </tr>\n",
       "    <tr>\n",
       "      <th>...</th>\n",
       "      <td>...</td>\n",
       "      <td>...</td>\n",
       "      <td>...</td>\n",
       "    </tr>\n",
       "    <tr>\n",
       "      <th>547</th>\n",
       "      <td>2023-08-30</td>\n",
       "      <td>ios</td>\n",
       "      <td>40</td>\n",
       "    </tr>\n",
       "    <tr>\n",
       "      <th>548</th>\n",
       "      <td>2023-08-30</td>\n",
       "      <td>web</td>\n",
       "      <td>34</td>\n",
       "    </tr>\n",
       "    <tr>\n",
       "      <th>549</th>\n",
       "      <td>2023-08-31</td>\n",
       "      <td>android</td>\n",
       "      <td>42</td>\n",
       "    </tr>\n",
       "    <tr>\n",
       "      <th>550</th>\n",
       "      <td>2023-08-31</td>\n",
       "      <td>ios</td>\n",
       "      <td>36</td>\n",
       "    </tr>\n",
       "    <tr>\n",
       "      <th>551</th>\n",
       "      <td>2023-08-31</td>\n",
       "      <td>web</td>\n",
       "      <td>46</td>\n",
       "    </tr>\n",
       "  </tbody>\n",
       "</table>\n",
       "<p>552 rows × 3 columns</p>\n",
       "</div>"
      ],
      "text/plain": [
       "     date_group platform  registrations\n",
       "0    2023-03-01  android             61\n",
       "1    2023-03-01      ios             18\n",
       "2    2023-03-01      web              8\n",
       "3    2023-03-02  android             59\n",
       "4    2023-03-02      ios             24\n",
       "..          ...      ...            ...\n",
       "547  2023-08-30      ios             40\n",
       "548  2023-08-30      web             34\n",
       "549  2023-08-31  android             42\n",
       "550  2023-08-31      ios             36\n",
       "551  2023-08-31      web             46\n",
       "\n",
       "[552 rows x 3 columns]"
      ]
     },
     "execution_count": 63,
     "metadata": {},
     "output_type": "execute_result"
    }
   ],
   "source": [
    "grouped_registrations = prepared_registrations.groupby(['date','platform']).agg(registrations=('user_id', 'size')).reset_index()\n",
    "grouped_registrations.rename(columns={'date': 'date_group'}, inplace=True)\n",
    "grouped_registrations"
   ]
  },
  {
   "cell_type": "markdown",
   "id": "407cd765-2df4-4a13-81b9-4eadb7791d5a",
   "metadata": {},
   "source": [
    "#### Объединение датафреймов и рассчет конверсии"
   ]
  },
  {
   "cell_type": "code",
   "execution_count": 65,
   "id": "093d129a-bd4b-45ad-8002-4795478b1e17",
   "metadata": {},
   "outputs": [
    {
     "data": {
      "text/html": [
       "<div>\n",
       "<style scoped>\n",
       "    .dataframe tbody tr th:only-of-type {\n",
       "        vertical-align: middle;\n",
       "    }\n",
       "\n",
       "    .dataframe tbody tr th {\n",
       "        vertical-align: top;\n",
       "    }\n",
       "\n",
       "    .dataframe thead th {\n",
       "        text-align: right;\n",
       "    }\n",
       "</style>\n",
       "<table border=\"1\" class=\"dataframe\">\n",
       "  <thead>\n",
       "    <tr style=\"text-align: right;\">\n",
       "      <th></th>\n",
       "      <th>date_group</th>\n",
       "      <th>platform</th>\n",
       "      <th>visits</th>\n",
       "      <th>registrations</th>\n",
       "      <th>conversion</th>\n",
       "    </tr>\n",
       "  </thead>\n",
       "  <tbody>\n",
       "    <tr>\n",
       "      <th>0</th>\n",
       "      <td>2023-03-01</td>\n",
       "      <td>android</td>\n",
       "      <td>75</td>\n",
       "      <td>61</td>\n",
       "      <td>0.813333</td>\n",
       "    </tr>\n",
       "    <tr>\n",
       "      <th>1</th>\n",
       "      <td>2023-03-01</td>\n",
       "      <td>ios</td>\n",
       "      <td>22</td>\n",
       "      <td>18</td>\n",
       "      <td>0.818182</td>\n",
       "    </tr>\n",
       "    <tr>\n",
       "      <th>2</th>\n",
       "      <td>2023-03-01</td>\n",
       "      <td>web</td>\n",
       "      <td>279</td>\n",
       "      <td>8</td>\n",
       "      <td>0.028674</td>\n",
       "    </tr>\n",
       "    <tr>\n",
       "      <th>3</th>\n",
       "      <td>2023-03-02</td>\n",
       "      <td>android</td>\n",
       "      <td>67</td>\n",
       "      <td>59</td>\n",
       "      <td>0.880597</td>\n",
       "    </tr>\n",
       "    <tr>\n",
       "      <th>4</th>\n",
       "      <td>2023-03-02</td>\n",
       "      <td>ios</td>\n",
       "      <td>31</td>\n",
       "      <td>24</td>\n",
       "      <td>0.774194</td>\n",
       "    </tr>\n",
       "  </tbody>\n",
       "</table>\n",
       "</div>"
      ],
      "text/plain": [
       "   date_group platform  visits  registrations  conversion\n",
       "0  2023-03-01  android      75             61    0.813333\n",
       "1  2023-03-01      ios      22             18    0.818182\n",
       "2  2023-03-01      web     279              8    0.028674\n",
       "3  2023-03-02  android      67             59    0.880597\n",
       "4  2023-03-02      ios      31             24    0.774194"
      ]
     },
     "execution_count": 65,
     "metadata": {},
     "output_type": "execute_result"
    }
   ],
   "source": [
    "conversion_df = pd.merge(grouped_visits, grouped_registrations, on=['date_group', 'platform'])\n",
    "conversion_df['conversion'] = conversion_df['registrations'] / conversion_df['visits']\n",
    "conversion_df.head()"
   ]
  },
  {
   "cell_type": "code",
   "execution_count": 116,
   "id": "b9af40b7-3c60-4832-be64-2e6d33e5c4ad",
   "metadata": {},
   "outputs": [],
   "source": [
    "conversion_df.to_json(path_to_save_conversions)"
   ]
  },
  {
   "cell_type": "markdown",
   "id": "6f6d424d-2c6c-43b7-ac8b-0d827d836d36",
   "metadata": {},
   "source": [
    "## Добавление данных о рекламе"
   ]
  },
  {
   "cell_type": "markdown",
   "id": "c035e4b8-21e3-475b-b880-8a7b109f795d",
   "metadata": {},
   "source": [
    "### Добавить данные по рекламным кампаниям. На выходе получить датафрейм со следующими полями:\n",
    "* date_group — дата\n",
    "* visits — визиты в дату\n",
    "* registrations — регистрации в дату\n",
    "* cost — затраты на рекламу, 0 если не было затрат\n",
    "* utm_campaign — название рекламной кампании, none если не было в этот период рекламы\n",
    "\n",
    "**Сагрегировать данные по дате и сохраним их в JSON:**\n",
    "\n",
    "- Объединить датайфрейм конверсий с рекламными кампаниями\n",
    "- Сохранить датафрейм в формате JSON с именем *ads.json*\n"
   ]
  },
  {
   "cell_type": "code",
   "execution_count": 120,
   "id": "0a570c21-c6f1-4c33-ad60-ceef9b3f71d3",
   "metadata": {},
   "outputs": [],
   "source": [
    "path_to_save_processed_ads = './ads.json'"
   ]
  },
  {
   "cell_type": "code",
   "execution_count": 69,
   "id": "8d09fc12-6f83-4078-91c4-eea1a745828d",
   "metadata": {},
   "outputs": [],
   "source": [
    "ads_view_url = 'https://drive.google.com/file/d/12vCtGhJlcK_CBcs8ES3BfEPbk6OJ45Qj/view'"
   ]
  },
  {
   "cell_type": "code",
   "execution_count": 70,
   "id": "01d7c5cc-84e5-4a75-82f0-3ad573bb1500",
   "metadata": {},
   "outputs": [],
   "source": [
    "def download_google_data(google_view_url, path_to_save):\n",
    "    '''\n",
    "    Downloading a file from Google Drive using a public link.\n",
    "    \n",
    "    Args:\n",
    "        google_view_url (str): Link to Google Drive (in the format “file/d//.../view”).\n",
    "        path_to_save (str): Path to save the file to disk.\n",
    "    \n",
    "    Returns:\n",
    "        str: Path to the saved file on successful upload, otherwise None.\n",
    "    '''\n",
    "    resource_id_search_result = re.search(r'file/d/([^/]+)/view', google_view_url)\n",
    "    if not resource_id_search_result:\n",
    "        print(f\"Nothing found at URL: {ads_view_url}\")\n",
    "        return\n",
    "    \n",
    "    resource_id = resource_id_search_result.group(1)\n",
    "    download_url = f\"https://drive.google.com/uc?id={resource_id}\"\n",
    "    \n",
    "    response = requests.get(download_url)\n",
    "    if not response.ok:\n",
    "        print(f'File download error: {response.status_code}')\n",
    "        return\n",
    "    try:\n",
    "        with open(path_to_save, 'wb') as f:\n",
    "            f.write(response.content)\n",
    "        print(f\"File successfully saved as '{path_to_save}'\")\n",
    "    except Exception as e:\n",
    "        print(f'Error saving file: {e}')\n",
    "        return\n",
    "    return path_to_save\n"
   ]
  },
  {
   "cell_type": "code",
   "execution_count": 73,
   "id": "4f505b6e-7fde-41a9-8467-7e2bf3df866b",
   "metadata": {},
   "outputs": [
    {
     "name": "stdout",
     "output_type": "stream",
     "text": [
      "File successfully saved as './ads.csv'\n"
     ]
    }
   ],
   "source": [
    "ads_path = download_google_data(ads_view_url, './ads.csv')"
   ]
  },
  {
   "cell_type": "markdown",
   "id": "e5384e2f-d197-442b-8adc-4ca06ee21fda",
   "metadata": {},
   "source": [
    "#### Чтение и изучение **ads**"
   ]
  },
  {
   "cell_type": "code",
   "execution_count": 75,
   "id": "9b603b37-e281-44dd-9f29-55572f411841",
   "metadata": {},
   "outputs": [
    {
     "data": {
      "text/html": [
       "<div>\n",
       "<style scoped>\n",
       "    .dataframe tbody tr th:only-of-type {\n",
       "        vertical-align: middle;\n",
       "    }\n",
       "\n",
       "    .dataframe tbody tr th {\n",
       "        vertical-align: top;\n",
       "    }\n",
       "\n",
       "    .dataframe thead th {\n",
       "        text-align: right;\n",
       "    }\n",
       "</style>\n",
       "<table border=\"1\" class=\"dataframe\">\n",
       "  <thead>\n",
       "    <tr style=\"text-align: right;\">\n",
       "      <th></th>\n",
       "      <th>date</th>\n",
       "      <th>utm_source</th>\n",
       "      <th>utm_medium</th>\n",
       "      <th>utm_campaign</th>\n",
       "      <th>cost</th>\n",
       "    </tr>\n",
       "  </thead>\n",
       "  <tbody>\n",
       "    <tr>\n",
       "      <th>0</th>\n",
       "      <td>2023-03-01T10:54:41</td>\n",
       "      <td>google</td>\n",
       "      <td>cpc</td>\n",
       "      <td>advanced_algorithms_series</td>\n",
       "      <td>212</td>\n",
       "    </tr>\n",
       "    <tr>\n",
       "      <th>1</th>\n",
       "      <td>2023-03-02T10:32:35</td>\n",
       "      <td>google</td>\n",
       "      <td>cpc</td>\n",
       "      <td>advanced_algorithms_series</td>\n",
       "      <td>252</td>\n",
       "    </tr>\n",
       "    <tr>\n",
       "      <th>2</th>\n",
       "      <td>2023-03-03T19:21:40</td>\n",
       "      <td>google</td>\n",
       "      <td>cpc</td>\n",
       "      <td>advanced_algorithms_series</td>\n",
       "      <td>202</td>\n",
       "    </tr>\n",
       "    <tr>\n",
       "      <th>3</th>\n",
       "      <td>2023-03-04T17:52:04</td>\n",
       "      <td>google</td>\n",
       "      <td>cpc</td>\n",
       "      <td>advanced_algorithms_series</td>\n",
       "      <td>223</td>\n",
       "    </tr>\n",
       "    <tr>\n",
       "      <th>4</th>\n",
       "      <td>2023-03-05T05:35:13</td>\n",
       "      <td>google</td>\n",
       "      <td>cpc</td>\n",
       "      <td>advanced_algorithms_series</td>\n",
       "      <td>265</td>\n",
       "    </tr>\n",
       "  </tbody>\n",
       "</table>\n",
       "</div>"
      ],
      "text/plain": [
       "                  date utm_source utm_medium                utm_campaign  cost\n",
       "0  2023-03-01T10:54:41     google        cpc  advanced_algorithms_series   212\n",
       "1  2023-03-02T10:32:35     google        cpc  advanced_algorithms_series   252\n",
       "2  2023-03-03T19:21:40     google        cpc  advanced_algorithms_series   202\n",
       "3  2023-03-04T17:52:04     google        cpc  advanced_algorithms_series   223\n",
       "4  2023-03-05T05:35:13     google        cpc  advanced_algorithms_series   265"
      ]
     },
     "execution_count": 75,
     "metadata": {},
     "output_type": "execute_result"
    }
   ],
   "source": [
    "ads_df = pd.read_csv(ads_path)\n",
    "ads_df.head()"
   ]
  },
  {
   "cell_type": "code",
   "execution_count": 77,
   "id": "4d6f06da-dc16-41c9-8a45-f976d4e9560c",
   "metadata": {},
   "outputs": [
    {
     "name": "stdout",
     "output_type": "stream",
     "text": [
      "<class 'pandas.core.frame.DataFrame'>\n",
      "RangeIndex: 159 entries, 0 to 158\n",
      "Data columns (total 5 columns):\n",
      " #   Column        Non-Null Count  Dtype \n",
      "---  ------        --------------  ----- \n",
      " 0   date          159 non-null    object\n",
      " 1   utm_source    159 non-null    object\n",
      " 2   utm_medium    159 non-null    object\n",
      " 3   utm_campaign  159 non-null    object\n",
      " 4   cost          159 non-null    int64 \n",
      "dtypes: int64(1), object(4)\n",
      "memory usage: 6.3+ KB\n"
     ]
    }
   ],
   "source": [
    "ads_df.info()"
   ]
  },
  {
   "cell_type": "markdown",
   "id": "18122449-258c-43bd-ab46-b878a6cab9bf",
   "metadata": {},
   "source": [
    "#### Предварительная подготовка **ads**"
   ]
  },
  {
   "cell_type": "code",
   "execution_count": 158,
   "id": "2a92ade0-94db-4a64-8e69-ef72b73c0f2b",
   "metadata": {},
   "outputs": [],
   "source": [
    "def prepare_ads(ads):\n",
    "    prepared_ads = ads.copy()\n",
    "    prepared_ads['date'] = pd.to_datetime(ads.date).dt.date\n",
    "    prepared_ads.sort_values(by='date', inplace=True)\n",
    "    return prepared_ads"
   ]
  },
  {
   "cell_type": "code",
   "execution_count": 160,
   "id": "3a0ea92a-e82b-4285-9b99-c157bb45b1c7",
   "metadata": {
    "scrolled": true
   },
   "outputs": [
    {
     "data": {
      "text/html": [
       "<div>\n",
       "<style scoped>\n",
       "    .dataframe tbody tr th:only-of-type {\n",
       "        vertical-align: middle;\n",
       "    }\n",
       "\n",
       "    .dataframe tbody tr th {\n",
       "        vertical-align: top;\n",
       "    }\n",
       "\n",
       "    .dataframe thead th {\n",
       "        text-align: right;\n",
       "    }\n",
       "</style>\n",
       "<table border=\"1\" class=\"dataframe\">\n",
       "  <thead>\n",
       "    <tr style=\"text-align: right;\">\n",
       "      <th></th>\n",
       "      <th>date</th>\n",
       "      <th>utm_source</th>\n",
       "      <th>utm_medium</th>\n",
       "      <th>utm_campaign</th>\n",
       "      <th>cost</th>\n",
       "    </tr>\n",
       "  </thead>\n",
       "  <tbody>\n",
       "    <tr>\n",
       "      <th>0</th>\n",
       "      <td>2023-03-01</td>\n",
       "      <td>google</td>\n",
       "      <td>cpc</td>\n",
       "      <td>advanced_algorithms_series</td>\n",
       "      <td>212</td>\n",
       "    </tr>\n",
       "    <tr>\n",
       "      <th>1</th>\n",
       "      <td>2023-03-02</td>\n",
       "      <td>google</td>\n",
       "      <td>cpc</td>\n",
       "      <td>advanced_algorithms_series</td>\n",
       "      <td>252</td>\n",
       "    </tr>\n",
       "    <tr>\n",
       "      <th>2</th>\n",
       "      <td>2023-03-03</td>\n",
       "      <td>google</td>\n",
       "      <td>cpc</td>\n",
       "      <td>advanced_algorithms_series</td>\n",
       "      <td>202</td>\n",
       "    </tr>\n",
       "    <tr>\n",
       "      <th>3</th>\n",
       "      <td>2023-03-04</td>\n",
       "      <td>google</td>\n",
       "      <td>cpc</td>\n",
       "      <td>advanced_algorithms_series</td>\n",
       "      <td>223</td>\n",
       "    </tr>\n",
       "    <tr>\n",
       "      <th>4</th>\n",
       "      <td>2023-03-05</td>\n",
       "      <td>google</td>\n",
       "      <td>cpc</td>\n",
       "      <td>advanced_algorithms_series</td>\n",
       "      <td>265</td>\n",
       "    </tr>\n",
       "    <tr>\n",
       "      <th>...</th>\n",
       "      <td>...</td>\n",
       "      <td>...</td>\n",
       "      <td>...</td>\n",
       "      <td>...</td>\n",
       "      <td>...</td>\n",
       "    </tr>\n",
       "    <tr>\n",
       "      <th>154</th>\n",
       "      <td>2023-09-13</td>\n",
       "      <td>vk</td>\n",
       "      <td>social</td>\n",
       "      <td>intro_to_python_course</td>\n",
       "      <td>277</td>\n",
       "    </tr>\n",
       "    <tr>\n",
       "      <th>155</th>\n",
       "      <td>2023-09-14</td>\n",
       "      <td>vk</td>\n",
       "      <td>social</td>\n",
       "      <td>intro_to_python_course</td>\n",
       "      <td>221</td>\n",
       "    </tr>\n",
       "    <tr>\n",
       "      <th>156</th>\n",
       "      <td>2023-09-15</td>\n",
       "      <td>vk</td>\n",
       "      <td>social</td>\n",
       "      <td>intro_to_python_course</td>\n",
       "      <td>175</td>\n",
       "    </tr>\n",
       "    <tr>\n",
       "      <th>157</th>\n",
       "      <td>2023-09-16</td>\n",
       "      <td>vk</td>\n",
       "      <td>social</td>\n",
       "      <td>intro_to_python_course</td>\n",
       "      <td>224</td>\n",
       "    </tr>\n",
       "    <tr>\n",
       "      <th>158</th>\n",
       "      <td>2023-09-17</td>\n",
       "      <td>vk</td>\n",
       "      <td>social</td>\n",
       "      <td>intro_to_python_course</td>\n",
       "      <td>125</td>\n",
       "    </tr>\n",
       "  </tbody>\n",
       "</table>\n",
       "<p>159 rows × 5 columns</p>\n",
       "</div>"
      ],
      "text/plain": [
       "           date utm_source utm_medium                utm_campaign  cost\n",
       "0    2023-03-01     google        cpc  advanced_algorithms_series   212\n",
       "1    2023-03-02     google        cpc  advanced_algorithms_series   252\n",
       "2    2023-03-03     google        cpc  advanced_algorithms_series   202\n",
       "3    2023-03-04     google        cpc  advanced_algorithms_series   223\n",
       "4    2023-03-05     google        cpc  advanced_algorithms_series   265\n",
       "..          ...        ...        ...                         ...   ...\n",
       "154  2023-09-13         vk     social      intro_to_python_course   277\n",
       "155  2023-09-14         vk     social      intro_to_python_course   221\n",
       "156  2023-09-15         vk     social      intro_to_python_course   175\n",
       "157  2023-09-16         vk     social      intro_to_python_course   224\n",
       "158  2023-09-17         vk     social      intro_to_python_course   125\n",
       "\n",
       "[159 rows x 5 columns]"
      ]
     },
     "execution_count": 160,
     "metadata": {},
     "output_type": "execute_result"
    }
   ],
   "source": [
    "prepared_ads_df = prepare_ads(ads_df)\n",
    "prepared_ads_df"
   ]
  },
  {
   "cell_type": "code",
   "execution_count": 214,
   "id": "7e7ba80e-758c-4b0b-ad2a-f8cd24b64cf8",
   "metadata": {},
   "outputs": [],
   "source": [
    "def merge_and_process(conversion_df, ads_df):\n",
    "    result = conversion_df.merge(\n",
    "        ads_df, left_on='date_group', right_on='date', how='left')\n",
    "    result.drop(\n",
    "        ['date', 'platform', 'conversion', 'utm_source', 'utm_medium'], axis=1, inplace=True)\n",
    "    result['cost'] = result['cost'].fillna(0)\n",
    "    result['utm_campaign'] = result['utm_campaign'].fillna('none')\n",
    "    result = (\n",
    "        result.groupby(['date_group', 'utm_campaign'], as_index=False)\n",
    "            .agg({\n",
    "                'visits': 'sum',\n",
    "                'registrations': 'sum',\n",
    "                'cost': 'first'\n",
    "            })\n",
    "    )\n",
    "    result = result[['date_group', 'visits', 'registrations', 'cost', 'utm_campaign']]\n",
    "    return result"
   ]
  },
  {
   "cell_type": "code",
   "execution_count": 218,
   "id": "de8e4818-6e54-40e8-ba3f-cb7703b606c9",
   "metadata": {},
   "outputs": [
    {
     "data": {
      "text/html": [
       "<div>\n",
       "<style scoped>\n",
       "    .dataframe tbody tr th:only-of-type {\n",
       "        vertical-align: middle;\n",
       "    }\n",
       "\n",
       "    .dataframe tbody tr th {\n",
       "        vertical-align: top;\n",
       "    }\n",
       "\n",
       "    .dataframe thead th {\n",
       "        text-align: right;\n",
       "    }\n",
       "</style>\n",
       "<table border=\"1\" class=\"dataframe\">\n",
       "  <thead>\n",
       "    <tr style=\"text-align: right;\">\n",
       "      <th></th>\n",
       "      <th>date_group</th>\n",
       "      <th>visits</th>\n",
       "      <th>registrations</th>\n",
       "      <th>cost</th>\n",
       "      <th>utm_campaign</th>\n",
       "    </tr>\n",
       "  </thead>\n",
       "  <tbody>\n",
       "    <tr>\n",
       "      <th>0</th>\n",
       "      <td>2023-03-01</td>\n",
       "      <td>376</td>\n",
       "      <td>87</td>\n",
       "      <td>212.0</td>\n",
       "      <td>advanced_algorithms_series</td>\n",
       "    </tr>\n",
       "    <tr>\n",
       "      <th>1</th>\n",
       "      <td>2023-03-02</td>\n",
       "      <td>613</td>\n",
       "      <td>106</td>\n",
       "      <td>252.0</td>\n",
       "      <td>advanced_algorithms_series</td>\n",
       "    </tr>\n",
       "    <tr>\n",
       "      <th>2</th>\n",
       "      <td>2023-03-03</td>\n",
       "      <td>683</td>\n",
       "      <td>107</td>\n",
       "      <td>202.0</td>\n",
       "      <td>advanced_algorithms_series</td>\n",
       "    </tr>\n",
       "    <tr>\n",
       "      <th>3</th>\n",
       "      <td>2023-03-04</td>\n",
       "      <td>647</td>\n",
       "      <td>159</td>\n",
       "      <td>223.0</td>\n",
       "      <td>advanced_algorithms_series</td>\n",
       "    </tr>\n",
       "    <tr>\n",
       "      <th>4</th>\n",
       "      <td>2023-03-05</td>\n",
       "      <td>707</td>\n",
       "      <td>115</td>\n",
       "      <td>265.0</td>\n",
       "      <td>advanced_algorithms_series</td>\n",
       "    </tr>\n",
       "    <tr>\n",
       "      <th>...</th>\n",
       "      <td>...</td>\n",
       "      <td>...</td>\n",
       "      <td>...</td>\n",
       "      <td>...</td>\n",
       "      <td>...</td>\n",
       "    </tr>\n",
       "    <tr>\n",
       "      <th>179</th>\n",
       "      <td>2023-08-27</td>\n",
       "      <td>795</td>\n",
       "      <td>88</td>\n",
       "      <td>222.0</td>\n",
       "      <td>intro_to_python_course</td>\n",
       "    </tr>\n",
       "    <tr>\n",
       "      <th>180</th>\n",
       "      <td>2023-08-28</td>\n",
       "      <td>635</td>\n",
       "      <td>83</td>\n",
       "      <td>223.0</td>\n",
       "      <td>intro_to_python_course</td>\n",
       "    </tr>\n",
       "    <tr>\n",
       "      <th>181</th>\n",
       "      <td>2023-08-29</td>\n",
       "      <td>1268</td>\n",
       "      <td>143</td>\n",
       "      <td>190.0</td>\n",
       "      <td>intro_to_python_course</td>\n",
       "    </tr>\n",
       "    <tr>\n",
       "      <th>182</th>\n",
       "      <td>2023-08-30</td>\n",
       "      <td>1328</td>\n",
       "      <td>101</td>\n",
       "      <td>109.0</td>\n",
       "      <td>intro_to_python_course</td>\n",
       "    </tr>\n",
       "    <tr>\n",
       "      <th>183</th>\n",
       "      <td>2023-08-31</td>\n",
       "      <td>828</td>\n",
       "      <td>124</td>\n",
       "      <td>215.0</td>\n",
       "      <td>intro_to_python_course</td>\n",
       "    </tr>\n",
       "  </tbody>\n",
       "</table>\n",
       "<p>184 rows × 5 columns</p>\n",
       "</div>"
      ],
      "text/plain": [
       "     date_group  visits  registrations   cost                utm_campaign\n",
       "0    2023-03-01     376             87  212.0  advanced_algorithms_series\n",
       "1    2023-03-02     613            106  252.0  advanced_algorithms_series\n",
       "2    2023-03-03     683            107  202.0  advanced_algorithms_series\n",
       "3    2023-03-04     647            159  223.0  advanced_algorithms_series\n",
       "4    2023-03-05     707            115  265.0  advanced_algorithms_series\n",
       "..          ...     ...            ...    ...                         ...\n",
       "179  2023-08-27     795             88  222.0      intro_to_python_course\n",
       "180  2023-08-28     635             83  223.0      intro_to_python_course\n",
       "181  2023-08-29    1268            143  190.0      intro_to_python_course\n",
       "182  2023-08-30    1328            101  109.0      intro_to_python_course\n",
       "183  2023-08-31     828            124  215.0      intro_to_python_course\n",
       "\n",
       "[184 rows x 5 columns]"
      ]
     },
     "execution_count": 218,
     "metadata": {},
     "output_type": "execute_result"
    }
   ],
   "source": [
    "campaign_summary_df = merge_and_process(conversion_df, prepared_ads_df)\n",
    "campaign_summary_df"
   ]
  },
  {
   "cell_type": "code",
   "execution_count": 224,
   "id": "0e1cf345-7385-4cad-97fe-663e4139999b",
   "metadata": {},
   "outputs": [],
   "source": [
    "campaign_summary_df.to_json(path_th_save_processed_ads)"
   ]
  },
  {
   "cell_type": "markdown",
   "id": "3b15abf5-386d-4628-afcd-e6f08299968f",
   "metadata": {},
   "source": [
    "## Визуализация"
   ]
  },
  {
   "cell_type": "code",
   "execution_count": 571,
   "id": "0bd5c748-fb45-49bb-a5ed-7f658ccac0af",
   "metadata": {},
   "outputs": [],
   "source": [
    "conversion_df = pd.read_json('./conversion.json', convert_dates=['date_group'])\n",
    "campaign_summary_df = pd.read_json('./ads.json', convert_dates=['date_group'])"
   ]
  },
  {
   "cell_type": "code",
   "execution_count": 572,
   "id": "2a65758a-67b3-4250-a0d3-410b3da1cb66",
   "metadata": {},
   "outputs": [],
   "source": [
    "dir_to_save_plots = './charts'"
   ]
  },
  {
   "cell_type": "code",
   "execution_count": 573,
   "id": "b8591ed5-72ef-4fc2-8701-9a0dd3c80aa4",
   "metadata": {},
   "outputs": [
    {
     "data": {
      "text/html": [
       "<div>\n",
       "<style scoped>\n",
       "    .dataframe tbody tr th:only-of-type {\n",
       "        vertical-align: middle;\n",
       "    }\n",
       "\n",
       "    .dataframe tbody tr th {\n",
       "        vertical-align: top;\n",
       "    }\n",
       "\n",
       "    .dataframe thead th {\n",
       "        text-align: right;\n",
       "    }\n",
       "</style>\n",
       "<table border=\"1\" class=\"dataframe\">\n",
       "  <thead>\n",
       "    <tr style=\"text-align: right;\">\n",
       "      <th></th>\n",
       "      <th>date_group</th>\n",
       "      <th>platform</th>\n",
       "      <th>visits</th>\n",
       "      <th>registrations</th>\n",
       "      <th>conversion</th>\n",
       "    </tr>\n",
       "  </thead>\n",
       "  <tbody>\n",
       "    <tr>\n",
       "      <th>0</th>\n",
       "      <td>2023-03-01</td>\n",
       "      <td>android</td>\n",
       "      <td>75</td>\n",
       "      <td>61</td>\n",
       "      <td>0.813333</td>\n",
       "    </tr>\n",
       "    <tr>\n",
       "      <th>1</th>\n",
       "      <td>2023-03-01</td>\n",
       "      <td>ios</td>\n",
       "      <td>22</td>\n",
       "      <td>18</td>\n",
       "      <td>0.818182</td>\n",
       "    </tr>\n",
       "    <tr>\n",
       "      <th>2</th>\n",
       "      <td>2023-03-01</td>\n",
       "      <td>web</td>\n",
       "      <td>279</td>\n",
       "      <td>8</td>\n",
       "      <td>0.028674</td>\n",
       "    </tr>\n",
       "    <tr>\n",
       "      <th>3</th>\n",
       "      <td>2023-03-02</td>\n",
       "      <td>android</td>\n",
       "      <td>67</td>\n",
       "      <td>59</td>\n",
       "      <td>0.880597</td>\n",
       "    </tr>\n",
       "    <tr>\n",
       "      <th>4</th>\n",
       "      <td>2023-03-02</td>\n",
       "      <td>ios</td>\n",
       "      <td>31</td>\n",
       "      <td>24</td>\n",
       "      <td>0.774194</td>\n",
       "    </tr>\n",
       "  </tbody>\n",
       "</table>\n",
       "</div>"
      ],
      "text/plain": [
       "  date_group platform  visits  registrations  conversion\n",
       "0 2023-03-01  android      75             61    0.813333\n",
       "1 2023-03-01      ios      22             18    0.818182\n",
       "2 2023-03-01      web     279              8    0.028674\n",
       "3 2023-03-02  android      67             59    0.880597\n",
       "4 2023-03-02      ios      31             24    0.774194"
      ]
     },
     "execution_count": 573,
     "metadata": {},
     "output_type": "execute_result"
    }
   ],
   "source": [
    "conversion_df.head()"
   ]
  },
  {
   "cell_type": "code",
   "execution_count": 574,
   "id": "c5e3664e-ee23-48ef-9fe2-da994dd20f01",
   "metadata": {},
   "outputs": [
    {
     "data": {
      "text/html": [
       "<div>\n",
       "<style scoped>\n",
       "    .dataframe tbody tr th:only-of-type {\n",
       "        vertical-align: middle;\n",
       "    }\n",
       "\n",
       "    .dataframe tbody tr th {\n",
       "        vertical-align: top;\n",
       "    }\n",
       "\n",
       "    .dataframe thead th {\n",
       "        text-align: right;\n",
       "    }\n",
       "</style>\n",
       "<table border=\"1\" class=\"dataframe\">\n",
       "  <thead>\n",
       "    <tr style=\"text-align: right;\">\n",
       "      <th></th>\n",
       "      <th>date_group</th>\n",
       "      <th>visits</th>\n",
       "      <th>registrations</th>\n",
       "      <th>cost</th>\n",
       "      <th>utm_campaign</th>\n",
       "    </tr>\n",
       "  </thead>\n",
       "  <tbody>\n",
       "    <tr>\n",
       "      <th>0</th>\n",
       "      <td>2023-03-01</td>\n",
       "      <td>376</td>\n",
       "      <td>87</td>\n",
       "      <td>212</td>\n",
       "      <td>advanced_algorithms_series</td>\n",
       "    </tr>\n",
       "    <tr>\n",
       "      <th>1</th>\n",
       "      <td>2023-03-02</td>\n",
       "      <td>613</td>\n",
       "      <td>106</td>\n",
       "      <td>252</td>\n",
       "      <td>advanced_algorithms_series</td>\n",
       "    </tr>\n",
       "    <tr>\n",
       "      <th>2</th>\n",
       "      <td>2023-03-03</td>\n",
       "      <td>683</td>\n",
       "      <td>107</td>\n",
       "      <td>202</td>\n",
       "      <td>advanced_algorithms_series</td>\n",
       "    </tr>\n",
       "    <tr>\n",
       "      <th>3</th>\n",
       "      <td>2023-03-04</td>\n",
       "      <td>647</td>\n",
       "      <td>159</td>\n",
       "      <td>223</td>\n",
       "      <td>advanced_algorithms_series</td>\n",
       "    </tr>\n",
       "    <tr>\n",
       "      <th>4</th>\n",
       "      <td>2023-03-05</td>\n",
       "      <td>707</td>\n",
       "      <td>115</td>\n",
       "      <td>265</td>\n",
       "      <td>advanced_algorithms_series</td>\n",
       "    </tr>\n",
       "  </tbody>\n",
       "</table>\n",
       "</div>"
      ],
      "text/plain": [
       "  date_group  visits  registrations  cost                utm_campaign\n",
       "0 2023-03-01     376             87   212  advanced_algorithms_series\n",
       "1 2023-03-02     613            106   252  advanced_algorithms_series\n",
       "2 2023-03-03     683            107   202  advanced_algorithms_series\n",
       "3 2023-03-04     647            159   223  advanced_algorithms_series\n",
       "4 2023-03-05     707            115   265  advanced_algorithms_series"
      ]
     },
     "execution_count": 574,
     "metadata": {},
     "output_type": "execute_result"
    }
   ],
   "source": [
    "campaign_summary_df.head()"
   ]
  },
  {
   "cell_type": "code",
   "execution_count": 666,
   "id": "8502c17f-fd08-401e-a372-680a59693170",
   "metadata": {},
   "outputs": [],
   "source": [
    "def plot_column_data(df, column_name, title, save_path=None):\n",
    "    \"\"\"\n",
    "    Plots a bar chart for the specified column in the DataFrame.\n",
    "    \n",
    "    Parameters:\n",
    "    -----------\n",
    "    df : pandas.DataFrame\n",
    "        DataFrame containing the data to plot.\n",
    "    \n",
    "    column_name : str\n",
    "        Name of the column to plot (e.g., 'visits', 'registrations', 'conversions').\n",
    "    \n",
    "    title : str\n",
    "        Title for the chart and Y-axis label.\n",
    "    \n",
    "    save_path : str, optional\n",
    "        Path to save the plot image. If not provided, the plot is shown interactively.\n",
    "    \"\"\"\n",
    "    plt.figure(figsize=(12, 6))\n",
    "    \n",
    "    plt.bar(df.date_group,\n",
    "            df[column_name],\n",
    "            label=title,\n",
    "            color='blue',\n",
    "            edgecolor='white',\n",
    "            linewidth=1)\n",
    "    \n",
    "    plt.title(title, fontsize=16)\n",
    "    plt.xlabel('Date', fontsize=10)\n",
    "    plt.ylabel(column_name, fontsize=10)\n",
    "    \n",
    "    plt.grid(axis='y', linestyle='--', alpha=0.6)\n",
    "    \n",
    "    plt.legend()\n",
    "    plt.xticks(rotation=45, fontsize=8)\n",
    "    plt.yticks(fontsize=10)\n",
    "    plt.tight_layout()\n",
    "\n",
    "    if save_path:\n",
    "        plt.savefig(save_path, dpi=300, bbox_inches='tight')\n",
    "        print(f\"Plot saved at: {os.path.realpath(save_path)}\")\n",
    "    plt.show()\n"
   ]
  },
  {
   "cell_type": "code",
   "execution_count": 674,
   "id": "63ece36c-2350-4670-b037-c80c0e0402d4",
   "metadata": {},
   "outputs": [],
   "source": [
    "def plot_column_by_platform(df, column_name, title, save_path=None, colors=None):\n",
    "    \"\"\"\n",
    "    Plots a stacked bar chart for a specified column by platform.\n",
    "\n",
    "    Parameters:\n",
    "    -----------\n",
    "    df : pandas.DataFrame\n",
    "        DataFrame containing the data to plot.\n",
    "    \n",
    "    column_name : str\n",
    "        The name of the column to plot (e.g., 'visits', 'registrations', 'conversions').\n",
    "    \n",
    "    title : str\n",
    "        Title for the chart and Y-axis label.\n",
    "    \n",
    "    save_path : str, optional\n",
    "        Path to save the plot image. If not provided, the plot is shown interactively.\n",
    "    \n",
    "    colors : dict, optional\n",
    "        Dictionary for custom colors for each platform. Keys are platform names and values are color names.\n",
    "        Defaults to `{\"android\": \"blue\", \"ios\": \"red\", \"web\": \"darkgreen\"}` if not provided.\n",
    "    \"\"\"\n",
    "    df_pivot = df.pivot(\n",
    "        index='date_group', columns='platform', values=column_name).reset_index()\n",
    "\n",
    "    if colors is None:\n",
    "        colors = {\"android\": \"blue\", \"ios\": \"red\", \"web\": \"darkgreen\"}\n",
    "\n",
    "    x_labels = df_pivot['date_group']\n",
    "    x_indices = range(len(x_labels))\n",
    "\n",
    "    ax = plt.figure(figsize=(12, 6)).gca()\n",
    "    df_pivot.drop(columns='date_group').plot(\n",
    "        kind='bar',\n",
    "        stacked=True,\n",
    "        ax=ax,\n",
    "        color=[colors.get(platform, 'gray') for platform in df_pivot.columns[1:]],  # Color by platform\n",
    "        edgecolor=\"grey\",\n",
    "        linewidth=1\n",
    "    )\n",
    "    \n",
    "    ax.set_xticks(x_indices)\n",
    "    ax.set_xticklabels(x_labels.dt.strftime('%Y-%m'))\n",
    "    ax.xaxis.set_major_locator(mdates.MonthLocator(bymonthday=1))\n",
    "\n",
    "    plt.title(title, fontsize=16)\n",
    "    plt.xlabel('Date', fontsize=10)\n",
    "    plt.ylabel(title, fontsize=10)\n",
    "    plt.grid(axis='y', linestyle='--', alpha=0.6)\n",
    "    plt.legend(title='Platform', fontsize=10, loc='upper right')\n",
    "    plt.xticks(rotation=45, fontsize=8)\n",
    "    plt.yticks(fontsize=10)\n",
    "    plt.tight_layout()\n",
    "    if save_path:\n",
    "        plt.savefig(save_path, dpi=300, bbox_inches='tight')\n",
    "        print(f\"Plot saved at: {os.path.realpath(save_path)}\")\n",
    "    plt.show()\n"
   ]
  },
  {
   "cell_type": "markdown",
   "id": "3ef1b93f-2857-49de-b534-78a2ce9eac83",
   "metadata": {},
   "source": [
    "#### Итоговые визиты"
   ]
  },
  {
   "cell_type": "code",
   "execution_count": 668,
   "id": "5f9cacff-f465-4c3d-a8c4-b20b4ed27cdb",
   "metadata": {
    "scrolled": true
   },
   "outputs": [
    {
     "name": "stdout",
     "output_type": "stream",
     "text": [
      "Plot saved at: /home/paalso/Projects/python-for-data-analysts-project-100/charts/total_visits.png\n"
     ]
    },
    {
     "data": {
      "image/png": "[encoded data removed]",
      "text/plain": [
       "<Figure size 1200x600 with 1 Axes>"
      ]
     },
     "metadata": {},
     "output_type": "display_data"
    }
   ],
   "source": [
    "plot_column_data(\n",
    "    campaign_summary_df,\n",
    "    column_name='visits',\n",
    "    title='Total Visits',\n",
    "    save_path=f'{dir_to_save_plots}/total_visits.png'\n",
    ")"
   ]
  },
  {
   "cell_type": "code",
   "execution_count": 676,
   "id": "8c3d7e54-3c80-4f2c-a5dd-332766134622",
   "metadata": {
    "scrolled": true
   },
   "outputs": [
    {
     "name": "stdout",
     "output_type": "stream",
     "text": [
      "Plot saved at: /home/paalso/Projects/python-for-data-analysts-project-100/charts/visits_by_platform.png\n"
     ]
    },
    {
     "data": {
      "image/png": "[encoded data removed]",
      "text/plain": [
       "<Figure size 1200x600 with 1 Axes>"
      ]
     },
     "metadata": {},
     "output_type": "display_data"
    }
   ],
   "source": [
    "plot_column_by_platform(\n",
    "    conversion_df,\n",
    "    'registrations',\n",
    "    'Registrations by Platform',\n",
    "    save_path=f'{dir_to_save_plots}/visits_by_platform.png'\n",
    ")"
   ]
  },
  {
   "cell_type": "code",
   "execution_count": null,
   "id": "d2dc9160-daef-4db2-aa42-992c77b9d25b",
   "metadata": {},
   "outputs": [],
   "source": []
  }
 ],
 "metadata": {
  "kernelspec": {
   "display_name": "Python 3 (ipykernel)",
   "language": "python",
   "name": "python3"
  },
  "language_info": {
   "codemirror_mode": {
    "name": "ipython",
    "version": 3
   },
   "file_extension": ".py",
   "mimetype": "text/x-python",
   "name": "python",
   "nbconvert_exporter": "python",
   "pygments_lexer": "ipython3",
   "version": "3.12.4"
  }
 },
 "nbformat": 4,
 "nbformat_minor": 5
}
