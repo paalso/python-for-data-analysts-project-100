{
 "cells": [
  {
   "cell_type": "markdown",
   "id": "6ac350f4-47c7-4edc-a336-116a9bfc81bc",
   "metadata": {},
   "source": [
    "# [Модуль \"Pythob для аналитиков данных\"](https://ru.hexlet.io/programs/python-for-data-analysts)\n",
    "\n",
    "## [Проект: Дашборд конверсий](https://ru.hexlet.io/programs/python-for-data-analysts/projects/100)\n"
   ]
  },
  {
   "cell_type": "code",
   "execution_count": 1,
   "id": "9485a6f4-912e-4cf2-9afd-edde0cf93696",
   "metadata": {},
   "outputs": [],
   "source": [
    "import pandas as pd\n",
    "import re\n",
    "import requests"
   ]
  },
  {
   "cell_type": "markdown",
   "id": "d1694c05-824e-4628-981a-361533c49ab7",
   "metadata": {},
   "source": [
    "#### Данные:\n",
    "\n",
    "[Визиты](https://drive.google.com/file/d/1QosQQ4RRNR9rkL4t7sB707h2Uy0XfYJe/view?usp=drive_link) - тысяча записей с визитами\n",
    "\n",
    "[Регистрации](https://drive.google.com/file/d/1AeQz0kaSgz0lxYSDtuNm36muhy5fRCzZ/view?usp=drive_link) - тысяча записей о первых регистрациях\n"
   ]
  },
  {
   "cell_type": "code",
   "execution_count": 29,
   "id": "f2544929-663c-448d-a3a3-e0282c253286",
   "metadata": {},
   "outputs": [],
   "source": [
    "visits_file_link = 'https://drive.google.com/file/d/1QosQQ4RRNR9rkL4t7sB707h2Uy0XfYJe/view?usp=drive_link'\n",
    "registrations_file_link = 'https://drive.google.com/file/d/1AeQz0kaSgz0lxYSDtuNm36muhy5fRCzZ/view?usp=drive_link'"
   ]
  },
  {
   "cell_type": "markdown",
   "id": "cc56e6dd-2446-4259-8cbc-978fd000a6c0",
   "metadata": {},
   "source": [
    "### Вспомогательные функции для скачивания с google disk по заданным ссылкам"
   ]
  },
  {
   "cell_type": "code",
   "execution_count": 18,
   "id": "3517598a-17a8-48f2-b48b-1f1e18ebeac7",
   "metadata": {},
   "outputs": [],
   "source": [
    "def get_file_id(google_file_link):\n",
    "    search_result = re.search(r'/d/([_\\w]+)/', google_file_link)\n",
    "    if search_result:\n",
    "        return search_result.group(1)\n",
    "\n",
    "\n",
    "def get_download_link(google_file_link):\n",
    "    file_id = get_file_id(google_file_link)\n",
    "    return f'https://drive.google.com/uc?export=download&id={file_id}'\n",
    "\n",
    "\n",
    "def get_file_from_google(google_file_link, path_to_save):\n",
    "    download_link = get_download_link(google_file_link)\n",
    "    print(f'Download from the link {download_link}...')\n",
    "    response = requests.get(download_link)\n",
    "    if response.ok:\n",
    "        with open(path_to_save, 'wb') as file:\n",
    "            file.write(response.content)\n",
    "        print(f\"File successfully saved as '{path_to_save}'\")\n",
    "    else:\n",
    "        print(f\"Error downloading file: status code {response.status_code}\")"
   ]
  },
  {
   "cell_type": "markdown",
   "id": "ac9f09b3-74e3-400e-8909-002f1dd9e315",
   "metadata": {},
   "source": [
    "### Скачиваем файлы"
   ]
  },
  {
   "cell_type": "code",
   "execution_count": 31,
   "id": "0b29f8ce-ecfb-473a-bdfc-00256af63654",
   "metadata": {},
   "outputs": [],
   "source": [
    "visits_path = './data/visits_1k.csv'\n",
    "registrations_path = './data/regs_1k.csv'"
   ]
  },
  {
   "cell_type": "code",
   "execution_count": 33,
   "id": "5a029ad5-c5f3-4790-bb04-e5ad2e1ac21c",
   "metadata": {},
   "outputs": [
    {
     "name": "stdout",
     "output_type": "stream",
     "text": [
      "Download from the link https://drive.google.com/uc?export=download&id=1QosQQ4RRNR9rkL4t7sB707h2Uy0XfYJe...\n",
      "File successfully saved as './data/visits_1k.csv'\n",
      "Download from the link https://drive.google.com/uc?export=download&id=1AeQz0kaSgz0lxYSDtuNm36muhy5fRCzZ...\n",
      "File successfully saved as './data/regs_1k.csv'\n"
     ]
    }
   ],
   "source": [
    "get_file_from_google(visits_file_link, visits_path)\n",
    "get_file_from_google(registrations_file_link, registrations_path)"
   ]
  },
  {
   "cell_type": "markdown",
   "id": "5c31bc1b-d668-418e-bfc1-103efe24e658",
   "metadata": {},
   "source": [
    "### Предварительная подготовка датафреймов"
   ]
  },
  {
   "cell_type": "code",
   "execution_count": 61,
   "id": "7724cd83-8b99-4ad8-9fc9-635da19b7d73",
   "metadata": {},
   "outputs": [],
   "source": [
    "start_date = '2023-03-01'\n",
    "final_date = '2023-09-01'"
   ]
  },
  {
   "cell_type": "code",
   "execution_count": 65,
   "id": "aead75b8-a12f-4261-8752-38a98d4e4aef",
   "metadata": {},
   "outputs": [],
   "source": [
    "start_date = pd.to_datetime(start_date)\n",
    "final_date = pd.to_datetime(final_date)"
   ]
  },
  {
   "cell_type": "markdown",
   "id": "a30a3646-ef89-44d4-9213-2ed3911102d5",
   "metadata": {},
   "source": [
    "#### visits"
   ]
  },
  {
   "cell_type": "code",
   "execution_count": 94,
   "id": "14d1df46-137b-4bf2-a8c8-a0cfd7654b57",
   "metadata": {},
   "outputs": [],
   "source": [
    "visits = pd.read_csv(visits_path)"
   ]
  },
  {
   "cell_type": "code",
   "execution_count": 81,
   "id": "8bf60751-30a2-4c25-ad38-8df1e5d2ea03",
   "metadata": {},
   "outputs": [
    {
     "data": {
      "text/html": [
       "<div>\n",
       "<style scoped>\n",
       "    .dataframe tbody tr th:only-of-type {\n",
       "        vertical-align: middle;\n",
       "    }\n",
       "\n",
       "    .dataframe tbody tr th {\n",
       "        vertical-align: top;\n",
       "    }\n",
       "\n",
       "    .dataframe thead th {\n",
       "        text-align: right;\n",
       "    }\n",
       "</style>\n",
       "<table border=\"1\" class=\"dataframe\">\n",
       "  <thead>\n",
       "    <tr style=\"text-align: right;\">\n",
       "      <th></th>\n",
       "      <th>uuid</th>\n",
       "      <th>platform</th>\n",
       "      <th>user_agent</th>\n",
       "      <th>date</th>\n",
       "    </tr>\n",
       "  </thead>\n",
       "  <tbody>\n",
       "    <tr>\n",
       "      <th>count</th>\n",
       "      <td>1000</td>\n",
       "      <td>1000</td>\n",
       "      <td>1000</td>\n",
       "      <td>1000</td>\n",
       "    </tr>\n",
       "    <tr>\n",
       "      <th>unique</th>\n",
       "      <td>519</td>\n",
       "      <td>3</td>\n",
       "      <td>28</td>\n",
       "      <td>996</td>\n",
       "    </tr>\n",
       "    <tr>\n",
       "      <th>top</th>\n",
       "      <td>251a0926-ece3-4d77-aa42-ab569fdf9fe2</td>\n",
       "      <td>web</td>\n",
       "      <td>Mozilla/5.0 (Windows NT 10.0; Win64; x64) Appl...</td>\n",
       "      <td>2023-03-01T08:01:45</td>\n",
       "    </tr>\n",
       "    <tr>\n",
       "      <th>freq</th>\n",
       "      <td>4</td>\n",
       "      <td>954</td>\n",
       "      <td>71</td>\n",
       "      <td>2</td>\n",
       "    </tr>\n",
       "  </tbody>\n",
       "</table>\n",
       "</div>"
      ],
      "text/plain": [
       "                                        uuid platform  \\\n",
       "count                                   1000     1000   \n",
       "unique                                   519        3   \n",
       "top     251a0926-ece3-4d77-aa42-ab569fdf9fe2      web   \n",
       "freq                                       4      954   \n",
       "\n",
       "                                               user_agent                 date  \n",
       "count                                                1000                 1000  \n",
       "unique                                                 28                  996  \n",
       "top     Mozilla/5.0 (Windows NT 10.0; Win64; x64) Appl...  2023-03-01T08:01:45  \n",
       "freq                                                   71                    2  "
      ]
     },
     "execution_count": 81,
     "metadata": {},
     "output_type": "execute_result"
    }
   ],
   "source": [
    "visits.describe()"
   ]
  },
  {
   "cell_type": "code",
   "execution_count": 41,
   "id": "555f8dc9-dc80-43b6-a522-c27ede4ec59d",
   "metadata": {},
   "outputs": [
    {
     "name": "stdout",
     "output_type": "stream",
     "text": [
      "<class 'pandas.core.frame.DataFrame'>\n",
      "RangeIndex: 1000 entries, 0 to 999\n",
      "Data columns (total 4 columns):\n",
      " #   Column      Non-Null Count  Dtype \n",
      "---  ------      --------------  ----- \n",
      " 0   uuid        1000 non-null   object\n",
      " 1   platform    1000 non-null   object\n",
      " 2   user_agent  1000 non-null   object\n",
      " 3   date        1000 non-null   object\n",
      "dtypes: object(4)\n",
      "memory usage: 31.4+ KB\n"
     ]
    }
   ],
   "source": [
    "visits.info()"
   ]
  },
  {
   "cell_type": "code",
   "execution_count": 39,
   "id": "e2fc87c1-dc2a-4c11-bcfa-88d801cadd39",
   "metadata": {},
   "outputs": [
    {
     "data": {
      "text/html": [
       "<div>\n",
       "<style scoped>\n",
       "    .dataframe tbody tr th:only-of-type {\n",
       "        vertical-align: middle;\n",
       "    }\n",
       "\n",
       "    .dataframe tbody tr th {\n",
       "        vertical-align: top;\n",
       "    }\n",
       "\n",
       "    .dataframe thead th {\n",
       "        text-align: right;\n",
       "    }\n",
       "</style>\n",
       "<table border=\"1\" class=\"dataframe\">\n",
       "  <thead>\n",
       "    <tr style=\"text-align: right;\">\n",
       "      <th></th>\n",
       "      <th>uuid</th>\n",
       "      <th>platform</th>\n",
       "      <th>user_agent</th>\n",
       "      <th>date</th>\n",
       "    </tr>\n",
       "  </thead>\n",
       "  <tbody>\n",
       "    <tr>\n",
       "      <th>0</th>\n",
       "      <td>1de9ea66-70d3-4a1f-8735-df5ef7697fb9</td>\n",
       "      <td>web</td>\n",
       "      <td>Mozilla/5.0 (Macintosh; Intel Mac OS X 10_11_2...</td>\n",
       "      <td>2023-03-01T13:29:22</td>\n",
       "    </tr>\n",
       "    <tr>\n",
       "      <th>1</th>\n",
       "      <td>f149f542-e935-4870-9734-6b4501eaf614</td>\n",
       "      <td>web</td>\n",
       "      <td>Mozilla/5.0 (X11; CrOS x86_64 8172.45.0) Apple...</td>\n",
       "      <td>2023-03-01T16:44:28</td>\n",
       "    </tr>\n",
       "    <tr>\n",
       "      <th>2</th>\n",
       "      <td>f149f542-e935-4870-9734-6b4501eaf614</td>\n",
       "      <td>web</td>\n",
       "      <td>Mozilla/5.0 (X11; CrOS x86_64 8172.45.0) Apple...</td>\n",
       "      <td>2023-03-06T06:12:36</td>\n",
       "    </tr>\n",
       "    <tr>\n",
       "      <th>3</th>\n",
       "      <td>08f0ebd4-950c-4dd9-8e97-b5bdf073eed1</td>\n",
       "      <td>web</td>\n",
       "      <td>Mozilla/5.0 (X11; Ubuntu; Linux x86_64; rv:109...</td>\n",
       "      <td>2023-03-01T20:16:37</td>\n",
       "    </tr>\n",
       "    <tr>\n",
       "      <th>4</th>\n",
       "      <td>08f0ebd4-950c-4dd9-8e97-b5bdf073eed1</td>\n",
       "      <td>web</td>\n",
       "      <td>Mozilla/5.0 (X11; Ubuntu; Linux x86_64; rv:109...</td>\n",
       "      <td>2023-03-05T17:42:47</td>\n",
       "    </tr>\n",
       "  </tbody>\n",
       "</table>\n",
       "</div>"
      ],
      "text/plain": [
       "                                   uuid platform  \\\n",
       "0  1de9ea66-70d3-4a1f-8735-df5ef7697fb9      web   \n",
       "1  f149f542-e935-4870-9734-6b4501eaf614      web   \n",
       "2  f149f542-e935-4870-9734-6b4501eaf614      web   \n",
       "3  08f0ebd4-950c-4dd9-8e97-b5bdf073eed1      web   \n",
       "4  08f0ebd4-950c-4dd9-8e97-b5bdf073eed1      web   \n",
       "\n",
       "                                          user_agent                 date  \n",
       "0  Mozilla/5.0 (Macintosh; Intel Mac OS X 10_11_2...  2023-03-01T13:29:22  \n",
       "1  Mozilla/5.0 (X11; CrOS x86_64 8172.45.0) Apple...  2023-03-01T16:44:28  \n",
       "2  Mozilla/5.0 (X11; CrOS x86_64 8172.45.0) Apple...  2023-03-06T06:12:36  \n",
       "3  Mozilla/5.0 (X11; Ubuntu; Linux x86_64; rv:109...  2023-03-01T20:16:37  \n",
       "4  Mozilla/5.0 (X11; Ubuntu; Linux x86_64; rv:109...  2023-03-05T17:42:47  "
      ]
     },
     "execution_count": 39,
     "metadata": {},
     "output_type": "execute_result"
    }
   ],
   "source": [
    "visits.head()"
   ]
  },
  {
   "cell_type": "code",
   "execution_count": 96,
   "id": "aa5b5eb7-aa05-4289-9d45-ff977fad67d1",
   "metadata": {},
   "outputs": [],
   "source": [
    "visits.date = pd.to_datetime(visits.date)"
   ]
  },
  {
   "cell_type": "code",
   "execution_count": 98,
   "id": "75095076-efc2-4429-b94d-3ac4034de761",
   "metadata": {},
   "outputs": [
    {
     "name": "stdout",
     "output_type": "stream",
     "text": [
      "<class 'pandas.core.frame.DataFrame'>\n",
      "RangeIndex: 1000 entries, 0 to 999\n",
      "Data columns (total 4 columns):\n",
      " #   Column      Non-Null Count  Dtype         \n",
      "---  ------      --------------  -----         \n",
      " 0   uuid        1000 non-null   object        \n",
      " 1   platform    1000 non-null   object        \n",
      " 2   user_agent  1000 non-null   object        \n",
      " 3   date        1000 non-null   datetime64[ns]\n",
      "dtypes: datetime64[ns](1), object(3)\n",
      "memory usage: 31.4+ KB\n"
     ]
    }
   ],
   "source": [
    "visits.info()"
   ]
  },
  {
   "cell_type": "code",
   "execution_count": 100,
   "id": "61dc0932-cea3-44de-abf3-fcb8d26ca7c4",
   "metadata": {},
   "outputs": [
    {
     "data": {
      "text/html": [
       "<div>\n",
       "<style scoped>\n",
       "    .dataframe tbody tr th:only-of-type {\n",
       "        vertical-align: middle;\n",
       "    }\n",
       "\n",
       "    .dataframe tbody tr th {\n",
       "        vertical-align: top;\n",
       "    }\n",
       "\n",
       "    .dataframe thead th {\n",
       "        text-align: right;\n",
       "    }\n",
       "</style>\n",
       "<table border=\"1\" class=\"dataframe\">\n",
       "  <thead>\n",
       "    <tr style=\"text-align: right;\">\n",
       "      <th></th>\n",
       "      <th>uuid</th>\n",
       "      <th>platform</th>\n",
       "      <th>user_agent</th>\n",
       "      <th>date</th>\n",
       "    </tr>\n",
       "  </thead>\n",
       "  <tbody>\n",
       "    <tr>\n",
       "      <th>264</th>\n",
       "      <td>d72d0452-c34d-4a29-9e7d-ad1cee0256b8</td>\n",
       "      <td>web</td>\n",
       "      <td>Mozilla/5.0 (X11; CrOS x86_64 8172.45.0) Apple...</td>\n",
       "      <td>2023-03-01 00:05:35</td>\n",
       "    </tr>\n",
       "    <tr>\n",
       "      <th>699</th>\n",
       "      <td>0e63cfdc-84dc-4bf9-a646-aef87212761d</td>\n",
       "      <td>web</td>\n",
       "      <td>Mozilla/5.0 (Windows NT 10.0; Win64; x64; rv:1...</td>\n",
       "      <td>2023-03-01 00:08:44</td>\n",
       "    </tr>\n",
       "    <tr>\n",
       "      <th>790</th>\n",
       "      <td>a1772ff8-4cfa-47fb-b192-e9b8347fa7c0</td>\n",
       "      <td>web</td>\n",
       "      <td>Mozilla/5.0 (X11; Ubuntu; Linux x86_64; rv:15....</td>\n",
       "      <td>2023-03-01 00:10:50</td>\n",
       "    </tr>\n",
       "    <tr>\n",
       "      <th>346</th>\n",
       "      <td>7827eafe-c8cf-4472-9b29-07132085dc12</td>\n",
       "      <td>web</td>\n",
       "      <td>Mozilla/5.0 (Windows NT 10.0; Win64; x64) Appl...</td>\n",
       "      <td>2023-03-01 00:17:01</td>\n",
       "    </tr>\n",
       "    <tr>\n",
       "      <th>285</th>\n",
       "      <td>bcd5f9f0-dd3f-43e7-87a1-1010cb626433</td>\n",
       "      <td>web</td>\n",
       "      <td>Mozilla/5.0 (Windows NT 10.0; Win64; x64) Appl...</td>\n",
       "      <td>2023-03-01 00:20:31</td>\n",
       "    </tr>\n",
       "    <tr>\n",
       "      <th>...</th>\n",
       "      <td>...</td>\n",
       "      <td>...</td>\n",
       "      <td>...</td>\n",
       "      <td>...</td>\n",
       "    </tr>\n",
       "    <tr>\n",
       "      <th>55</th>\n",
       "      <td>458c3cdb-2d66-4a7b-8a4a-db41ce779a93</td>\n",
       "      <td>web</td>\n",
       "      <td>Mozilla/5.0 (Macintosh; Intel Mac OS X 10_11_2...</td>\n",
       "      <td>2023-03-06 23:14:41</td>\n",
       "    </tr>\n",
       "    <tr>\n",
       "      <th>889</th>\n",
       "      <td>66108cbb-1892-4836-9715-1cba35701533</td>\n",
       "      <td>web</td>\n",
       "      <td>Mozilla/5.0 (X11; Ubuntu; Linux x86_64; rv:15....</td>\n",
       "      <td>2023-03-07 00:01:06</td>\n",
       "    </tr>\n",
       "    <tr>\n",
       "      <th>998</th>\n",
       "      <td>3f78ac76-6f81-43ec-85e8-f3cf74fc8fdc</td>\n",
       "      <td>web</td>\n",
       "      <td>Mozilla/5.0 (Macintosh; Intel Mac OS X 10_15_7...</td>\n",
       "      <td>2023-03-07 00:07:34</td>\n",
       "    </tr>\n",
       "    <tr>\n",
       "      <th>946</th>\n",
       "      <td>d408aafb-662b-4cac-9a55-83ffef4269fe</td>\n",
       "      <td>web</td>\n",
       "      <td>Mozilla/5.0 (Windows NT 6.1; WOW64) AppleWebKi...</td>\n",
       "      <td>2023-03-07 20:23:16</td>\n",
       "    </tr>\n",
       "    <tr>\n",
       "      <th>996</th>\n",
       "      <td>8bc047ac-dc03-4a61-8037-7371f729fa34</td>\n",
       "      <td>web</td>\n",
       "      <td>Mozilla/5.0 (X11; Ubuntu; Linux x86_64; rv:15....</td>\n",
       "      <td>2023-03-07 23:05:08</td>\n",
       "    </tr>\n",
       "  </tbody>\n",
       "</table>\n",
       "<p>1000 rows × 4 columns</p>\n",
       "</div>"
      ],
      "text/plain": [
       "                                     uuid platform  \\\n",
       "264  d72d0452-c34d-4a29-9e7d-ad1cee0256b8      web   \n",
       "699  0e63cfdc-84dc-4bf9-a646-aef87212761d      web   \n",
       "790  a1772ff8-4cfa-47fb-b192-e9b8347fa7c0      web   \n",
       "346  7827eafe-c8cf-4472-9b29-07132085dc12      web   \n",
       "285  bcd5f9f0-dd3f-43e7-87a1-1010cb626433      web   \n",
       "..                                    ...      ...   \n",
       "55   458c3cdb-2d66-4a7b-8a4a-db41ce779a93      web   \n",
       "889  66108cbb-1892-4836-9715-1cba35701533      web   \n",
       "998  3f78ac76-6f81-43ec-85e8-f3cf74fc8fdc      web   \n",
       "946  d408aafb-662b-4cac-9a55-83ffef4269fe      web   \n",
       "996  8bc047ac-dc03-4a61-8037-7371f729fa34      web   \n",
       "\n",
       "                                            user_agent                date  \n",
       "264  Mozilla/5.0 (X11; CrOS x86_64 8172.45.0) Apple... 2023-03-01 00:05:35  \n",
       "699  Mozilla/5.0 (Windows NT 10.0; Win64; x64; rv:1... 2023-03-01 00:08:44  \n",
       "790  Mozilla/5.0 (X11; Ubuntu; Linux x86_64; rv:15.... 2023-03-01 00:10:50  \n",
       "346  Mozilla/5.0 (Windows NT 10.0; Win64; x64) Appl... 2023-03-01 00:17:01  \n",
       "285  Mozilla/5.0 (Windows NT 10.0; Win64; x64) Appl... 2023-03-01 00:20:31  \n",
       "..                                                 ...                 ...  \n",
       "55   Mozilla/5.0 (Macintosh; Intel Mac OS X 10_11_2... 2023-03-06 23:14:41  \n",
       "889  Mozilla/5.0 (X11; Ubuntu; Linux x86_64; rv:15.... 2023-03-07 00:01:06  \n",
       "998  Mozilla/5.0 (Macintosh; Intel Mac OS X 10_15_7... 2023-03-07 00:07:34  \n",
       "946  Mozilla/5.0 (Windows NT 6.1; WOW64) AppleWebKi... 2023-03-07 20:23:16  \n",
       "996  Mozilla/5.0 (X11; Ubuntu; Linux x86_64; rv:15.... 2023-03-07 23:05:08  \n",
       "\n",
       "[1000 rows x 4 columns]"
      ]
     },
     "execution_count": 100,
     "metadata": {},
     "output_type": "execute_result"
    }
   ],
   "source": [
    "visits = visits[(start_date < visits.date) & (visits.date < final_date)].sort_values('date')\n",
    "visits"
   ]
  },
  {
   "cell_type": "markdown",
   "id": "577a59d5-4227-435f-842b-19acf7b5526b",
   "metadata": {},
   "source": [
    "#### registrations"
   ]
  },
  {
   "cell_type": "code",
   "execution_count": 102,
   "id": "faef8ba9-aea8-4565-936e-d9654656e18c",
   "metadata": {},
   "outputs": [],
   "source": [
    "registrations = pd.read_csv(registrations_path)"
   ]
  },
  {
   "cell_type": "code",
   "execution_count": 104,
   "id": "48365423-a647-4a15-a86c-81d128e1e52a",
   "metadata": {},
   "outputs": [
    {
     "name": "stdout",
     "output_type": "stream",
     "text": [
      "<class 'pandas.core.frame.DataFrame'>\n",
      "RangeIndex: 1000 entries, 0 to 999\n",
      "Data columns (total 5 columns):\n",
      " #   Column             Non-Null Count  Dtype \n",
      "---  ------             --------------  ----- \n",
      " 0   date               1000 non-null   object\n",
      " 1   user_id            1000 non-null   int64 \n",
      " 2   email              1000 non-null   object\n",
      " 3   platform           1000 non-null   object\n",
      " 4   registration_type  1000 non-null   object\n",
      "dtypes: int64(1), object(4)\n",
      "memory usage: 39.2+ KB\n"
     ]
    }
   ],
   "source": [
    "registrations.info()"
   ]
  },
  {
   "cell_type": "code",
   "execution_count": 106,
   "id": "fcb69a15-16ac-4291-8850-6e038d1751c4",
   "metadata": {},
   "outputs": [
    {
     "data": {
      "text/html": [
       "<div>\n",
       "<style scoped>\n",
       "    .dataframe tbody tr th:only-of-type {\n",
       "        vertical-align: middle;\n",
       "    }\n",
       "\n",
       "    .dataframe tbody tr th {\n",
       "        vertical-align: top;\n",
       "    }\n",
       "\n",
       "    .dataframe thead th {\n",
       "        text-align: right;\n",
       "    }\n",
       "</style>\n",
       "<table border=\"1\" class=\"dataframe\">\n",
       "  <thead>\n",
       "    <tr style=\"text-align: right;\">\n",
       "      <th></th>\n",
       "      <th>date</th>\n",
       "      <th>user_id</th>\n",
       "      <th>email</th>\n",
       "      <th>platform</th>\n",
       "      <th>registration_type</th>\n",
       "    </tr>\n",
       "  </thead>\n",
       "  <tbody>\n",
       "    <tr>\n",
       "      <th>0</th>\n",
       "      <td>2023-03-01T00:25:39</td>\n",
       "      <td>8838849</td>\n",
       "      <td>joseph95@example.org</td>\n",
       "      <td>web</td>\n",
       "      <td>google</td>\n",
       "    </tr>\n",
       "    <tr>\n",
       "      <th>1</th>\n",
       "      <td>2023-03-01T14:53:01</td>\n",
       "      <td>8741065</td>\n",
       "      <td>janetsuarez@example.net</td>\n",
       "      <td>web</td>\n",
       "      <td>yandex</td>\n",
       "    </tr>\n",
       "    <tr>\n",
       "      <th>2</th>\n",
       "      <td>2023-03-01T14:27:36</td>\n",
       "      <td>1866654</td>\n",
       "      <td>robert67@example.org</td>\n",
       "      <td>web</td>\n",
       "      <td>google</td>\n",
       "    </tr>\n",
       "    <tr>\n",
       "      <th>3</th>\n",
       "      <td>2023-03-01T02:42:34</td>\n",
       "      <td>1577584</td>\n",
       "      <td>elam@example.net</td>\n",
       "      <td>web</td>\n",
       "      <td>apple</td>\n",
       "    </tr>\n",
       "    <tr>\n",
       "      <th>4</th>\n",
       "      <td>2023-03-01T10:27:14</td>\n",
       "      <td>4765395</td>\n",
       "      <td>stephanie68@example.net</td>\n",
       "      <td>web</td>\n",
       "      <td>yandex</td>\n",
       "    </tr>\n",
       "  </tbody>\n",
       "</table>\n",
       "</div>"
      ],
      "text/plain": [
       "                  date  user_id                    email platform  \\\n",
       "0  2023-03-01T00:25:39  8838849     joseph95@example.org      web   \n",
       "1  2023-03-01T14:53:01  8741065  janetsuarez@example.net      web   \n",
       "2  2023-03-01T14:27:36  1866654     robert67@example.org      web   \n",
       "3  2023-03-01T02:42:34  1577584         elam@example.net      web   \n",
       "4  2023-03-01T10:27:14  4765395  stephanie68@example.net      web   \n",
       "\n",
       "  registration_type  \n",
       "0            google  \n",
       "1            yandex  \n",
       "2            google  \n",
       "3             apple  \n",
       "4            yandex  "
      ]
     },
     "execution_count": 106,
     "metadata": {},
     "output_type": "execute_result"
    }
   ],
   "source": [
    "registrations.head()"
   ]
  },
  {
   "cell_type": "code",
   "execution_count": 108,
   "id": "c4d3b88b-cde6-49af-a686-739c3d1c69e0",
   "metadata": {},
   "outputs": [],
   "source": [
    "registrations.date = pd.to_datetime(registrations.date)"
   ]
  },
  {
   "cell_type": "code",
   "execution_count": 110,
   "id": "05ac2078-c610-4528-bdb0-79aa68a68431",
   "metadata": {},
   "outputs": [
    {
     "data": {
      "text/html": [
       "<div>\n",
       "<style scoped>\n",
       "    .dataframe tbody tr th:only-of-type {\n",
       "        vertical-align: middle;\n",
       "    }\n",
       "\n",
       "    .dataframe tbody tr th {\n",
       "        vertical-align: top;\n",
       "    }\n",
       "\n",
       "    .dataframe thead th {\n",
       "        text-align: right;\n",
       "    }\n",
       "</style>\n",
       "<table border=\"1\" class=\"dataframe\">\n",
       "  <thead>\n",
       "    <tr style=\"text-align: right;\">\n",
       "      <th></th>\n",
       "      <th>date</th>\n",
       "      <th>user_id</th>\n",
       "      <th>email</th>\n",
       "      <th>platform</th>\n",
       "      <th>registration_type</th>\n",
       "    </tr>\n",
       "  </thead>\n",
       "  <tbody>\n",
       "    <tr>\n",
       "      <th>37</th>\n",
       "      <td>2023-03-01 00:12:22</td>\n",
       "      <td>100719</td>\n",
       "      <td>aanderson@example.org</td>\n",
       "      <td>android</td>\n",
       "      <td>google</td>\n",
       "    </tr>\n",
       "    <tr>\n",
       "      <th>0</th>\n",
       "      <td>2023-03-01 00:25:39</td>\n",
       "      <td>8838849</td>\n",
       "      <td>joseph95@example.org</td>\n",
       "      <td>web</td>\n",
       "      <td>google</td>\n",
       "    </tr>\n",
       "    <tr>\n",
       "      <th>14</th>\n",
       "      <td>2023-03-01 00:50:15</td>\n",
       "      <td>368030</td>\n",
       "      <td>charlesstevens@example.net</td>\n",
       "      <td>web</td>\n",
       "      <td>yandex</td>\n",
       "    </tr>\n",
       "    <tr>\n",
       "      <th>48</th>\n",
       "      <td>2023-03-01 01:32:12</td>\n",
       "      <td>2938785</td>\n",
       "      <td>debra86@example.com</td>\n",
       "      <td>ios</td>\n",
       "      <td>email</td>\n",
       "    </tr>\n",
       "    <tr>\n",
       "      <th>16</th>\n",
       "      <td>2023-03-01 01:56:21</td>\n",
       "      <td>968533</td>\n",
       "      <td>fmcgrath@example.org</td>\n",
       "      <td>web</td>\n",
       "      <td>google</td>\n",
       "    </tr>\n",
       "    <tr>\n",
       "      <th>...</th>\n",
       "      <td>...</td>\n",
       "      <td>...</td>\n",
       "      <td>...</td>\n",
       "      <td>...</td>\n",
       "      <td>...</td>\n",
       "    </tr>\n",
       "    <tr>\n",
       "      <th>947</th>\n",
       "      <td>2023-03-05 21:11:40</td>\n",
       "      <td>8509874</td>\n",
       "      <td>zsmith@example.org</td>\n",
       "      <td>web</td>\n",
       "      <td>apple</td>\n",
       "    </tr>\n",
       "    <tr>\n",
       "      <th>969</th>\n",
       "      <td>2023-03-05 21:50:21</td>\n",
       "      <td>1557199</td>\n",
       "      <td>watsonsarah@example.org</td>\n",
       "      <td>web</td>\n",
       "      <td>google</td>\n",
       "    </tr>\n",
       "    <tr>\n",
       "      <th>970</th>\n",
       "      <td>2023-03-05 21:52:46</td>\n",
       "      <td>8833853</td>\n",
       "      <td>robinsonkatie@example.net</td>\n",
       "      <td>web</td>\n",
       "      <td>yandex</td>\n",
       "    </tr>\n",
       "    <tr>\n",
       "      <th>965</th>\n",
       "      <td>2023-03-05 22:00:42</td>\n",
       "      <td>6650724</td>\n",
       "      <td>andrewparks@example.com</td>\n",
       "      <td>web</td>\n",
       "      <td>google</td>\n",
       "    </tr>\n",
       "    <tr>\n",
       "      <th>973</th>\n",
       "      <td>2023-03-05 22:04:01</td>\n",
       "      <td>393104</td>\n",
       "      <td>kelseynewman@example.com</td>\n",
       "      <td>web</td>\n",
       "      <td>apple</td>\n",
       "    </tr>\n",
       "  </tbody>\n",
       "</table>\n",
       "<p>1000 rows × 5 columns</p>\n",
       "</div>"
      ],
      "text/plain": [
       "                   date  user_id                       email platform  \\\n",
       "37  2023-03-01 00:12:22   100719       aanderson@example.org  android   \n",
       "0   2023-03-01 00:25:39  8838849        joseph95@example.org      web   \n",
       "14  2023-03-01 00:50:15   368030  charlesstevens@example.net      web   \n",
       "48  2023-03-01 01:32:12  2938785         debra86@example.com      ios   \n",
       "16  2023-03-01 01:56:21   968533        fmcgrath@example.org      web   \n",
       "..                  ...      ...                         ...      ...   \n",
       "947 2023-03-05 21:11:40  8509874          zsmith@example.org      web   \n",
       "969 2023-03-05 21:50:21  1557199     watsonsarah@example.org      web   \n",
       "970 2023-03-05 21:52:46  8833853   robinsonkatie@example.net      web   \n",
       "965 2023-03-05 22:00:42  6650724     andrewparks@example.com      web   \n",
       "973 2023-03-05 22:04:01   393104    kelseynewman@example.com      web   \n",
       "\n",
       "    registration_type  \n",
       "37             google  \n",
       "0              google  \n",
       "14             yandex  \n",
       "48              email  \n",
       "16             google  \n",
       "..                ...  \n",
       "947             apple  \n",
       "969            google  \n",
       "970            yandex  \n",
       "965            google  \n",
       "973             apple  \n",
       "\n",
       "[1000 rows x 5 columns]"
      ]
     },
     "execution_count": 110,
     "metadata": {},
     "output_type": "execute_result"
    }
   ],
   "source": [
    "registrations = registrations[(start_date < registrations.date) & (registrations.date < final_date)].sort_values('date')\n",
    "registrations"
   ]
  },
  {
   "cell_type": "code",
   "execution_count": 114,
   "id": "a72091fb-c056-4b50-b4ff-0fa8880670d8",
   "metadata": {},
   "outputs": [],
   "source": [
    "API_URL = 'https://data-charts-api.hexlet.app'\n",
    "DATE_BEGIN = '2023-03-01'\n",
    "DATE_END = '2023-09-01'"
   ]
  },
  {
   "cell_type": "code",
   "execution_count": 116,
   "id": "382078fe-c6c4-498c-a815-b8ec5d57d42d",
   "metadata": {
    "scrolled": true
   },
   "outputs": [],
   "source": [
    "visit_json = requests.get(f\"{API_URL}/visits?begin={DATE_BEGIN}&end={DATE_END}\")"
   ]
  },
  {
   "cell_type": "code",
   "execution_count": 118,
   "id": "6e6cf10d-3534-4f66-87a4-faa3f7b339c4",
   "metadata": {},
   "outputs": [
    {
     "data": {
      "text/plain": [
       "<Response [200]>"
      ]
     },
     "execution_count": 118,
     "metadata": {},
     "output_type": "execute_result"
    }
   ],
   "source": [
    "visit_json"
   ]
  }
 ],
 "metadata": {
  "kernelspec": {
   "display_name": "Python 3 (ipykernel)",
   "language": "python",
   "name": "python3"
  },
  "language_info": {
   "codemirror_mode": {
    "name": "ipython",
    "version": 3
   },
   "file_extension": ".py",
   "mimetype": "text/x-python",
   "name": "python",
   "nbconvert_exporter": "python",
   "pygments_lexer": "ipython3",
   "version": "3.12.4"
  }
 },
 "nbformat": 4,
 "nbformat_minor": 5
}
